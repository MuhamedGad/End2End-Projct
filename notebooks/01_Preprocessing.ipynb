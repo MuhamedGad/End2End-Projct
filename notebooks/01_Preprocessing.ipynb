{
 "cells": [
  {
   "cell_type": "code",
   "execution_count": 1,
   "id": "40028022",
   "metadata": {},
   "outputs": [],
   "source": [
    "#Paths\n",
    "DATA_PATH = r\"..\\data\\raw\\survey_results_public.csv\"\n",
    "EXPORT_PATH = r\"..\\data\\processed\\processed_1.pkl\""
   ]
  },
  {
   "cell_type": "code",
   "execution_count": 2,
   "id": "a4629c06",
   "metadata": {},
   "outputs": [],
   "source": [
    "NUM_COLS = ['YearsCodePro', 'YearsCode']"
   ]
  },
  {
   "cell_type": "code",
   "execution_count": 3,
   "id": "7ba73762",
   "metadata": {},
   "outputs": [],
   "source": [
    "import pandas as pd\n",
    "import numpy as np"
   ]
  },
  {
   "cell_type": "code",
   "execution_count": 4,
   "id": "71a7cb2c",
   "metadata": {},
   "outputs": [],
   "source": [
    "raw = pd.read_csv(DATA_PATH)"
   ]
  },
  {
   "cell_type": "markdown",
   "id": "17dbfcb4",
   "metadata": {},
   "source": [
    "## Functions"
   ]
  },
  {
   "cell_type": "code",
   "execution_count": 5,
   "id": "9ccd4c92",
   "metadata": {},
   "outputs": [],
   "source": [
    "def split_answers (col_series, delimiter=';') :\n",
    "    \n",
    "    #Sub Functions\n",
    "    def is_splitable (col_series, delimiter) :\n",
    "        return col_series.str.contains(delimiter)\n",
    "        \n",
    "    def split_multiples (col_series, delimiter):\n",
    "        return col_series.str.split(delimiter)\n",
    "    \n",
    "    col_series= col_series.fillna('')\n",
    "    if is_splitable(col_series, delimiter).any() :\n",
    "        return split_multiples (col_series, delimiter)\n",
    "    else :\n",
    "        return col_series\n",
    "    \n",
    "# age_mapping = {'Less than 1 year': '0.5', 'More than 50 years' : '51'}\n",
    "\n",
    "def custome_mapping(value) :\n",
    "    if value == 'Less than 1 year' :\n",
    "        return '1'\n",
    "    elif value == 'More than 50 years' :\n",
    "        return '51'\n",
    "    else:\n",
    "        return value\n",
    "# def parse_age (col_series) :\n",
    "#     return col_series.map(age_mapping)"
   ]
  },
  {
   "cell_type": "markdown",
   "id": "4457b7c8",
   "metadata": {},
   "source": [
    "## Preprocess the data"
   ]
  },
  {
   "cell_type": "markdown",
   "id": "e79e3d91",
   "metadata": {},
   "source": [
    "### Splitting multiple asnwers"
   ]
  },
  {
   "cell_type": "code",
   "execution_count": 6,
   "id": "0b040d12",
   "metadata": {},
   "outputs": [],
   "source": [
    "df = raw.copy()"
   ]
  },
  {
   "cell_type": "code",
   "execution_count": 7,
   "id": "c0332ccf",
   "metadata": {},
   "outputs": [],
   "source": [
    "#splitting multible asnwers\n",
    "for column in raw.columns :\n",
    "    if df[column].dtype == object:\n",
    "\n",
    "        df[column] = split_answers(df[column])"
   ]
  },
  {
   "cell_type": "markdown",
   "id": "dfbe85a8",
   "metadata": {},
   "source": [
    "### Replace And Parse"
   ]
  },
  {
   "cell_type": "code",
   "execution_count": 8,
   "id": "6e71e3bb",
   "metadata": {},
   "outputs": [],
   "source": [
    "#parsin numeric columns\n",
    "for col in NUM_COLS :\n",
    "    df[col].apply(lambda x: custome_mapping(x))\n",
    "    df[col]= pd.to_numeric(df[col], errors='coerce')"
   ]
  },
  {
   "cell_type": "markdown",
   "id": "a2d67750",
   "metadata": {},
   "source": [
    "#### Verify Results"
   ]
  },
  {
   "cell_type": "code",
   "execution_count": 10,
   "id": "f4b2df89",
   "metadata": {},
   "outputs": [
    {
     "name": "stdout",
     "output_type": "stream",
     "text": [
      "Assembly;C;C#;C++;HTML/CSS;JavaScript;Lisp;Lua;Python;Rust;SQL;TypeScript;Zig\n",
      "['Assembly', 'C', 'C#', 'C++', 'HTML/CSS', 'JavaScript', 'Lisp', 'Lua', 'Python', 'Rust', 'SQL', 'TypeScript', 'Zig']\n"
     ]
    }
   ],
   "source": [
    "# Check the split answers results in LanguageWorkedWith\n",
    "i = raw.sample(1).index[0]\n",
    "print (raw['LanguageHaveWorkedWith'].iloc[i])\n",
    "print (df['LanguageHaveWorkedWith'].iloc[i])"
   ]
  },
  {
   "cell_type": "code",
   "execution_count": 11,
   "id": "d841fe3b",
   "metadata": {},
   "outputs": [
    {
     "data": {
      "text/plain": [
       "dtype('O')"
      ]
     },
     "execution_count": 11,
     "metadata": {},
     "output_type": "execute_result"
    }
   ],
   "source": [
    "# Quick check for numeric columns\n",
    "raw['YearsCode'].dtype\n"
   ]
  },
  {
   "cell_type": "markdown",
   "id": "430db858",
   "metadata": {},
   "source": [
    "### Exporting preprocessed data"
   ]
  },
  {
   "cell_type": "code",
   "execution_count": null,
   "id": "f41fd80c",
   "metadata": {},
   "outputs": [],
   "source": []
  }
 ],
 "metadata": {
  "kernelspec": {
   "display_name": "Python 3 (ipykernel)",
   "language": "python",
   "name": "python3"
  },
  "language_info": {
   "codemirror_mode": {
    "name": "ipython",
    "version": 3
   },
   "file_extension": ".py",
   "mimetype": "text/x-python",
   "name": "python",
   "nbconvert_exporter": "python",
   "pygments_lexer": "ipython3",
   "version": "3.9.12"
  }
 },
 "nbformat": 4,
 "nbformat_minor": 5
}
