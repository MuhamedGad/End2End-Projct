{
 "cells": [
  {
   "cell_type": "code",
   "execution_count": 1,
   "id": "84c91bff",
   "metadata": {},
   "outputs": [],
   "source": [
    "#Paths\n",
    "DATA_PATH = r\"..\\data\\raw\\survey_results_public.csv\"\n",
    "EXPORT_PATH = r\"..\\data\\processed\\processed_1.pkl\""
   ]
  },
  {
   "cell_type": "code",
   "execution_count": 2,
   "id": "9c330705",
   "metadata": {},
   "outputs": [],
   "source": [
    "NUM_COLS = ['YearsCodePro', 'YearsCode']"
   ]
  },
  {
   "cell_type": "code",
   "execution_count": 3,
   "id": "1300eb7b",
   "metadata": {},
   "outputs": [],
   "source": [
    "import pandas as pd\n",
    "import numpy as np"
   ]
  },
  {
   "cell_type": "code",
   "execution_count": 4,
   "id": "611acecd",
   "metadata": {},
   "outputs": [],
   "source": [
    "raw = pd.read_csv(DATA_PATH)"
   ]
  },
  {
   "cell_type": "markdown",
   "id": "4eaeca9d",
   "metadata": {},
   "source": [
    "## Functions"
   ]
  },
  {
   "cell_type": "code",
   "execution_count": 5,
   "id": "ed651e3c",
   "metadata": {},
   "outputs": [],
   "source": [
    "def split_answers (col_series, delimiter=';') :\n",
    "    \n",
    "    #Sub Functions\n",
    "    def is_splitable (col_series, delimiter) :\n",
    "        return col_series.str.contains(delimiter)\n",
    "        \n",
    "    def split_multiples (col_series, delimiter):\n",
    "        return col_series.str.split(delimiter)\n",
    "    \n",
    "    col_series= col_series.fillna('')\n",
    "    if is_splitable(col_series, delimiter).any() :\n",
    "        return split_multiples (col_series, delimiter)\n",
    "    else :\n",
    "        return col_series\n",
    "    \n",
    "# age_mapping = {'Less than 1 year': '0.5', 'More than 50 years' : '51'}\n",
    "\n",
    "def custome_mapping(value) :\n",
    "    if value == 'Less than 1 year' :\n",
    "        return '1'\n",
    "    elif value == 'More than 50 years' :\n",
    "        return '51'\n",
    "    else:\n",
    "        return value\n",
    "# def parse_age (col_series) :\n",
    "#     return col_series.map(age_mapping)"
   ]
  },
  {
   "cell_type": "markdown",
   "id": "9b324008",
   "metadata": {},
   "source": [
    "## Preprocess the data"
   ]
  },
  {
   "cell_type": "markdown",
   "id": "21abe6bc",
   "metadata": {},
   "source": [
    "### Splitting multiple asnwers"
   ]
  },
  {
   "cell_type": "code",
   "execution_count": 6,
   "id": "5dac2efc",
   "metadata": {},
   "outputs": [],
   "source": [
    "df = raw.copy()"
   ]
  },
  {
   "cell_type": "code",
   "execution_count": 7,
   "id": "c70f19a5",
   "metadata": {},
   "outputs": [],
   "source": [
    "#splitting multible asnwers\n",
    "for column in raw.columns :\n",
    "    if df[column].dtype == object:\n",
    "\n",
    "        df[column] = split_answers(df[column])"
   ]
  },
  {
   "cell_type": "markdown",
   "id": "f2415d47",
   "metadata": {},
   "source": [
    "### Replace And Parse"
   ]
  },
  {
   "cell_type": "code",
   "execution_count": 8,
   "id": "940cfa00",
   "metadata": {},
   "outputs": [],
   "source": [
    "#parsin numeric columns\n",
    "for col in NUM_COLS :\n",
    "    df[col].apply(lambda x: custome_mapping(x))\n",
    "    df[col]= pd.to_numeric(df[col], errors='coerce')"
   ]
  },
  {
   "cell_type": "markdown",
   "id": "e5ea3c00",
   "metadata": {},
   "source": [
    "#### Verify Results"
   ]
  },
  {
   "cell_type": "code",
   "execution_count": 9,
   "id": "6e0b9707",
   "metadata": {},
   "outputs": [
    {
     "name": "stdout",
     "output_type": "stream",
     "text": [
      "Bash/Shell (all shells);HTML/CSS;JavaScript;PHP;Python\n",
      "['Bash/Shell (all shells)', 'HTML/CSS', 'JavaScript', 'PHP', 'Python']\n"
     ]
    }
   ],
   "source": [
    "# Check the split answers results in LanguageWorkedWith\n",
    "i = raw.sample(1).index[0]\n",
    "print (raw['LanguageHaveWorkedWith'].iloc[i])\n",
    "print (df['LanguageHaveWorkedWith'].iloc[i])"
   ]
  },
  {
   "cell_type": "code",
   "execution_count": 10,
   "id": "75791eb7",
   "metadata": {},
   "outputs": [
    {
     "data": {
      "text/plain": [
       "dtype('O')"
      ]
     },
     "execution_count": 10,
     "metadata": {},
     "output_type": "execute_result"
    }
   ],
   "source": [
    "# Quick check for numeric columns\n",
    "raw['YearsCode'].dtype\n"
   ]
  },
  {
   "cell_type": "markdown",
   "id": "3ab0ecaf",
   "metadata": {},
   "source": [
    "### Exporting preprocessed data"
   ]
  },
  {
   "cell_type": "code",
   "execution_count": 11,
   "id": "25924b97",
   "metadata": {},
   "outputs": [],
   "source": [
    "df.to_pickle(EXPORT_PATH)"
   ]
  }
 ],
 "metadata": {
  "kernelspec": {
   "display_name": "Python 3 (ipykernel)",
   "language": "python",
   "name": "python3"
  },
  "language_info": {
   "codemirror_mode": {
    "name": "ipython",
    "version": 3
   },
   "file_extension": ".py",
   "mimetype": "text/x-python",
   "name": "python",
   "nbconvert_exporter": "python",
   "pygments_lexer": "ipython3",
   "version": "3.9.12"
  }
 },
 "nbformat": 4,
 "nbformat_minor": 5
}
