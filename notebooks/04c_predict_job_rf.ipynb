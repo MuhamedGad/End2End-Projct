{
 "cells": [
  {
   "cell_type": "code",
   "execution_count": 4,
   "id": "ce35db85",
   "metadata": {},
   "outputs": [],
   "source": [
    "# important paths\n",
    "DATA_PATH = r\"..\\data\\processed\\processed_1.pkl\"\n",
    "FEATURES_PATH = r\"..\\data\\processed\\cleaned_df.pkl\"\n"
   ]
  },
  {
   "cell_type": "code",
   "execution_count": 5,
   "id": "b8728e83",
   "metadata": {},
   "outputs": [],
   "source": [
    "# used libraries\n",
    "import pandas as pd\n",
    "import mlflow\n",
    "import os\n",
    "\n",
    "import numpy as np\n",
    "from sklearn.preprocessing import RobustScaler\n",
    "from sklearn.preprocessing import StandardScaler\n",
    "\n",
    "from imblearn.over_sampling import RandomOverSampler\n",
    "from imblearn.under_sampling import RandomUnderSampler\n",
    "\n",
    "from sklearn.decomposition import PCA\n",
    "from sklearn.metrics import classification_report\n",
    "from sklearn.model_selection import train_test_split\n",
    "from sklearn.ensemble import RandomForestClassifier\n",
    "from sklearn.metrics import f1_score, precision_score, recall_score, confusion_matrix\n",
    "from sklearn.pipeline import make_pipeline\n",
    "from sklearn.pipeline import Pipeline\n",
    "from sklearn.compose import ColumnTransformer\n",
    "import warnings"
   ]
  },
  {
   "cell_type": "code",
   "execution_count": 6,
   "id": "b73d1340",
   "metadata": {},
   "outputs": [],
   "source": [
    "warnings.filterwarnings(\"ignore\")"
   ]
  },
  {
   "cell_type": "code",
   "execution_count": 7,
   "id": "fd03c911",
   "metadata": {},
   "outputs": [],
   "source": [
    "# reading data\n",
    "processed_df = pd.read_pickle(DATA_PATH)\n",
    "combined_df = pd.read_pickle(FEATURES_PATH)\n",
    "df = combined_df.copy()"
   ]
  },
  {
   "cell_type": "code",
   "execution_count": 9,
   "id": "4ba7127a",
   "metadata": {},
   "outputs": [
    {
     "data": {
      "text/plain": [
       "Academic researcher                               1283\n",
       "Cloud infrastructure engineer                      931\n",
       "Data or business analyst                           813\n",
       "Data scientist or machine learning specialist     1474\n",
       "Database administrator                             245\n",
       "DevOps specialist                                 1217\n",
       "Developer, QA or test                              562\n",
       "Developer, back-end                              13045\n",
       "Developer, desktop or enterprise applications     3745\n",
       "Developer, embedded applications or devices       1780\n",
       "Developer, front-end                              4915\n",
       "Developer, full-stack                            23303\n",
       "Developer, game or graphics                        824\n",
       "Developer, mobile                                 2512\n",
       "Engineer, data                                    1170\n",
       "Hardware Engineer                                  278\n",
       "Scientist                                          331\n",
       "Security professional                              416\n",
       "System administrator                               689\n",
       "dtype: int64"
      ]
     },
     "execution_count": 9,
     "metadata": {},
     "output_type": "execute_result"
    }
   ],
   "source": [
    "roles_df = combined_df['DevType'].copy()\n",
    "roles_df.sum(axis=0)"
   ]
  },
  {
   "cell_type": "markdown",
   "id": "57c58f3e",
   "metadata": {},
   "source": [
    "#### Handling the imbalance"
   ]
  },
  {
   "cell_type": "code",
   "execution_count": 10,
   "id": "d4635cb1",
   "metadata": {},
   "outputs": [],
   "source": [
    "# Resample roles\n",
    "samples_per_class = 1400\n",
    "resampled_roles = []"
   ]
  },
  {
   "cell_type": "code",
   "execution_count": 11,
   "id": "c745e8d9",
   "metadata": {},
   "outputs": [],
   "source": [
    "for role_col in roles_df.columns:\n",
    "    sub_df = roles_df.loc[roles_df[role_col] == 1].copy()\n",
    "\n",
    "    if len(sub_df) / samples_per_class < 1 :\n",
    "        # Upsample\n",
    "        t = len(sub_df) *   (len(sub_df) / samples_per_class) \n",
    "        amo = t + samples_per_class\n",
    "        sub_df = sub_df.sample(int(amo), replace=True, random_state=0)\n",
    "    else:\n",
    "        # Downsample\n",
    "        t = (len(sub_df) / samples_per_class) \n",
    "        if t > 2 :\n",
    "            t/= 2\n",
    "        amo = samples_per_class * t\n",
    "\n",
    "        sub_df = sub_df.sample(int(amo), random_state=0)\n",
    "\n",
    "    resampled_roles.append(sub_df)"
   ]
  },
  {
   "cell_type": "code",
   "execution_count": 12,
   "id": "95cf7ef5",
   "metadata": {},
   "outputs": [],
   "source": [
    "# Construct dfs\n",
    "roles_df = pd.concat(resampled_roles)\n",
    "df = df.loc[roles_df.index].copy()"
   ]
  },
  {
   "cell_type": "code",
   "execution_count": 13,
   "id": "56c05cfe",
   "metadata": {},
   "outputs": [
    {
     "data": {
      "text/plain": [
       "Academic researcher                               2575\n",
       "Cloud infrastructure engineer                     2019\n",
       "Data or business analyst                          1872\n",
       "Data scientist or machine learning specialist     1474\n",
       "Database administrator                            1442\n",
       "DevOps specialist                                 2457\n",
       "Developer, QA or test                             1625\n",
       "Developer, back-end                               6522\n",
       "Developer, desktop or enterprise applications     1872\n",
       "Developer, embedded applications or devices       1780\n",
       "Developer, front-end                              2457\n",
       "Developer, full-stack                            11651\n",
       "Developer, game or graphics                       1884\n",
       "Developer, mobile                                 2512\n",
       "Engineer, data                                    2377\n",
       "Hardware Engineer                                 1455\n",
       "Scientist                                         1478\n",
       "Security professional                             1523\n",
       "System administrator                              1739\n",
       "dtype: int64"
      ]
     },
     "execution_count": 13,
     "metadata": {},
     "output_type": "execute_result"
    }
   ],
   "source": [
    "roles_df.sum(axis=0)"
   ]
  },
  {
   "cell_type": "code",
   "execution_count": 14,
   "id": "33db928c",
   "metadata": {},
   "outputs": [],
   "source": [
    "X=df['Clusters']\n",
    "y = df['DevType'].idxmax(axis=1)"
   ]
  },
  {
   "cell_type": "markdown",
   "id": "a214c638",
   "metadata": {},
   "source": [
    "### Basic RandomForest model"
   ]
  },
  {
   "cell_type": "code",
   "execution_count": 15,
   "id": "8781710a",
   "metadata": {},
   "outputs": [],
   "source": [
    "X_train, X_test, y_train, y_test = train_test_split(X, y, test_size=0.15,stratify=y,  random_state=42)"
   ]
  },
  {
   "cell_type": "code",
   "execution_count": 16,
   "id": "e1b60f2a",
   "metadata": {},
   "outputs": [],
   "source": [
    "numeric_cols = X_train.columns"
   ]
  },
  {
   "cell_type": "code",
   "execution_count": 17,
   "id": "7038606f",
   "metadata": {},
   "outputs": [],
   "source": [
    "preprocessor = ColumnTransformer(\n",
    "                transformers=[\n",
    "                    ('num', RobustScaler(), numeric_cols)\n",
    "                ]\n",
    ")"
   ]
  },
  {
   "cell_type": "code",
   "execution_count": 42,
   "id": "ceec22c7",
   "metadata": {},
   "outputs": [
    {
     "name": "stderr",
     "output_type": "stream",
     "text": [
      "[Parallel(n_jobs=-1)]: Using backend ThreadingBackend with 16 concurrent workers.\n",
      "[Parallel(n_jobs=-1)]: Done  18 tasks      | elapsed:    0.4s\n",
      "[Parallel(n_jobs=-1)]: Done 100 out of 100 | elapsed:    1.6s finished\n"
     ]
    },
    {
     "data": {
      "text/plain": [
       "Pipeline(steps=[('preprocessor',\n",
       "                 ColumnTransformer(transformers=[('num', RobustScaler(),\n",
       "                                                  Index(['skills_group_0', 'skills_group_1', 'skills_group_10',\n",
       "       'skills_group_11', 'skills_group_12', 'skills_group_13',\n",
       "       'skills_group_14', 'skills_group_15', 'skills_group_16',\n",
       "       'skills_group_17', 'skills_group_18', 'skills_group_19',\n",
       "       'skills_group_2', 'skills_group_20', 'skills_group_21',\n",
       "       'skills_group_22', 'skills_group_23', 'skills_group_24',\n",
       "       'skills_group_3', 'skills_group_4', 'skills_group_5', 'skills_group_6',\n",
       "       'skills_group_7', 'skills_group_9'],\n",
       "      dtype='object'))])),\n",
       "                ('pca', PCA(n_components=0.99)),\n",
       "                ('classifier',\n",
       "                 RandomForestClassifier(n_jobs=-1, random_state=42,\n",
       "                                        verbose=1))])"
      ]
     },
     "execution_count": 42,
     "metadata": {},
     "output_type": "execute_result"
    }
   ],
   "source": [
    "rf_clf = Pipeline([\n",
    "    \n",
    "    ('preprocessor', preprocessor),\n",
    "    ('pca', PCA(n_components=0.99)),\n",
    "    ('classifier', RandomForestClassifier(n_jobs=-1, verbose=1, random_state=42))\n",
    "])\n",
    "\n",
    "rf_clf.fit(X_train, y_train)"
   ]
  },
  {
   "cell_type": "code",
   "execution_count": 43,
   "id": "79a7796f",
   "metadata": {},
   "outputs": [
    {
     "name": "stderr",
     "output_type": "stream",
     "text": [
      "[Parallel(n_jobs=16)]: Using backend ThreadingBackend with 16 concurrent workers.\n",
      "[Parallel(n_jobs=16)]: Done  18 tasks      | elapsed:    0.0s\n",
      "[Parallel(n_jobs=16)]: Done 100 out of 100 | elapsed:    0.0s finished\n"
     ]
    }
   ],
   "source": [
    "y_pred = rf_clf.predict(X_test)"
   ]
  },
  {
   "cell_type": "code",
   "execution_count": 44,
   "id": "cc5987e9",
   "metadata": {},
   "outputs": [
    {
     "name": "stdout",
     "output_type": "stream",
     "text": [
      "                                               precision    recall  f1-score   support\n",
      "\n",
      "                          Academic researcher       0.77      0.78      0.78       386\n",
      "                Cloud infrastructure engineer       0.91      0.88      0.89       303\n",
      "                     Data or business analyst       0.81      0.81      0.81       281\n",
      "Data scientist or machine learning specialist       0.68      0.54      0.60       221\n",
      "                       Database administrator       0.88      0.94      0.91       216\n",
      "                            DevOps specialist       0.91      0.81      0.86       369\n",
      "                        Developer, QA or test       0.91      0.83      0.87       244\n",
      "                          Developer, back-end       0.52      0.39      0.45       978\n",
      "Developer, desktop or enterprise applications       0.35      0.16      0.22       281\n",
      "  Developer, embedded applications or devices       0.45      0.43      0.44       267\n",
      "                         Developer, front-end       0.56      0.28      0.37       369\n",
      "                        Developer, full-stack       0.59      0.80      0.67      1748\n",
      "                  Developer, game or graphics       0.84      0.89      0.86       283\n",
      "                            Developer, mobile       0.75      0.67      0.71       377\n",
      "                               Engineer, data       0.81      0.85      0.83       356\n",
      "                            Hardware Engineer       0.72      0.94      0.81       218\n",
      "                                    Scientist       0.82      0.89      0.85       222\n",
      "                        Security professional       0.95      0.93      0.94       228\n",
      "                         System administrator       0.89      0.80      0.84       261\n",
      "\n",
      "                                     accuracy                           0.70      7608\n",
      "                                    macro avg       0.74      0.72      0.72      7608\n",
      "                                 weighted avg       0.69      0.70      0.68      7608\n",
      "\n"
     ]
    }
   ],
   "source": [
    "print (classification_report(y_test, y_pred))"
   ]
  },
  {
   "cell_type": "code",
   "execution_count": 53,
   "id": "9ab01390",
   "metadata": {},
   "outputs": [
    {
     "data": {
      "text/plain": [
       "0.6828606760279509"
      ]
     },
     "execution_count": 53,
     "metadata": {},
     "output_type": "execute_result"
    }
   ],
   "source": [
    "f1=f1_score(y_test, y_pred, average='weighted')\n",
    "f1"
   ]
  },
  {
   "cell_type": "code",
   "execution_count": 49,
   "id": "ddc85d9b",
   "metadata": {},
   "outputs": [],
   "source": [
    "precision=precision_score(y_test, y_pred, average='weighted')"
   ]
  },
  {
   "cell_type": "code",
   "execution_count": 50,
   "id": "d93df339",
   "metadata": {},
   "outputs": [],
   "source": [
    "recall=recall_score(y_test, y_pred, average='weighted')"
   ]
  },
  {
   "cell_type": "code",
   "execution_count": 46,
   "id": "7a0dc0aa",
   "metadata": {},
   "outputs": [],
   "source": [
    "# where to create the mlruns folder\n",
    "MLFLOW_TRACKING_URI = '../models/mlruns'\n",
    "mlflow.set_tracking_uri(MLFLOW_TRACKING_URI)\n"
   ]
  },
  {
   "cell_type": "code",
   "execution_count": 47,
   "id": "b5f60509",
   "metadata": {},
   "outputs": [],
   "source": [
    "experiment_name = \"rf_job_predict\"\n",
    "artifact_location = r\"..\\models\\Models\"\n",
    "experiment_id = mlflow.create_experiment(experiment_name, artifact_location)\n"
   ]
  },
  {
   "cell_type": "code",
   "execution_count": 48,
   "id": "2fea8377",
   "metadata": {},
   "outputs": [],
   "source": [
    "# Set MLFLOW_EXPERIMENT_LOCATION to the desired artifact location\n",
    "os.environ[\"MLFLOW_EXPERIMENT_LOCATION\"] = artifact_location"
   ]
  },
  {
   "cell_type": "code",
   "execution_count": 55,
   "id": "424c5999",
   "metadata": {},
   "outputs": [],
   "source": [
    "with mlflow.start_run(experiment_id=experiment_id):\n",
    "    # Log parameters\n",
    "    mlflow.log_param(\"PCA n_components\", 0.99)\n",
    "\n",
    "    # Log metrics\n",
    "    mlflow.log_metric(\"f1_score\", f1)\n",
    "    mlflow.log_metric(\"recall\", recall)\n",
    "    mlflow.log_metric(\"precision\", precision)\n",
    "    mlflow.sklearn.log_model(rf_clf, \" Basic RandomForestClassifier with PCA\")"
   ]
  },
  {
   "cell_type": "code",
   "execution_count": null,
   "id": "d84b0479",
   "metadata": {},
   "outputs": [],
   "source": []
  }
 ],
 "metadata": {
  "kernelspec": {
   "display_name": "Python 3 (ipykernel)",
   "language": "python",
   "name": "python3"
  },
  "language_info": {
   "codemirror_mode": {
    "name": "ipython",
    "version": 3
   },
   "file_extension": ".py",
   "mimetype": "text/x-python",
   "name": "python",
   "nbconvert_exporter": "python",
   "pygments_lexer": "ipython3",
   "version": "3.9.12"
  }
 },
 "nbformat": 4,
 "nbformat_minor": 5
}
