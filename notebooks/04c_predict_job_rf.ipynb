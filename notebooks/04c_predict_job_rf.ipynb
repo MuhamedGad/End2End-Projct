{
 "cells": [
  {
   "cell_type": "code",
   "execution_count": 101,
   "id": "033caabf",
   "metadata": {},
   "outputs": [],
   "source": [
    "# important paths\n",
    "DATA_PATH = r\"..\\data\\processed\\processed_1.pkl\"\n",
    "FEATURES_PATH = r\"..\\data\\processed\\cleaned_df.pkl\"\n"
   ]
  },
  {
   "cell_type": "code",
   "execution_count": 102,
   "id": "cd1a3b12",
   "metadata": {},
   "outputs": [],
   "source": [
    "# used libraries\n",
    "import pandas as pd\n",
    "import mlflow\n",
    "import os\n",
    "\n",
    "import numpy as np\n",
    "from sklearn.preprocessing import RobustScaler\n",
    "from sklearn.preprocessing import StandardScaler\n",
    "\n",
    "from imblearn.over_sampling import RandomOverSampler\n",
    "from imblearn.under_sampling import RandomUnderSampler\n",
    "from sklearn.model_selection import GridSearchCV\n",
    "\n",
    "from sklearn.decomposition import PCA\n",
    "from sklearn.metrics import classification_report\n",
    "from sklearn.model_selection import train_test_split\n",
    "from sklearn.ensemble import RandomForestClassifier\n",
    "from sklearn.metrics import f1_score, precision_score, recall_score, confusion_matrix\n",
    "from sklearn.pipeline import make_pipeline\n",
    "from sklearn.pipeline import Pipeline\n",
    "from sklearn.compose import ColumnTransformer\n",
    "import warnings"
   ]
  },
  {
   "cell_type": "code",
   "execution_count": 103,
   "id": "33691f7d",
   "metadata": {},
   "outputs": [],
   "source": [
    "warnings.filterwarnings(\"ignore\")"
   ]
  },
  {
   "cell_type": "code",
   "execution_count": 104,
   "id": "ba213a9d",
   "metadata": {},
   "outputs": [],
   "source": [
    "# reading data\n",
    "processed_df = pd.read_pickle(DATA_PATH)\n",
    "combined_df = pd.read_pickle(FEATURES_PATH)\n",
    "df = combined_df.copy()"
   ]
  },
  {
   "cell_type": "code",
   "execution_count": 105,
   "id": "b812de05",
   "metadata": {},
   "outputs": [
    {
     "data": {
      "text/plain": [
       "Academic researcher                               1283\n",
       "Cloud infrastructure engineer                      931\n",
       "Data or business analyst                           813\n",
       "Data scientist or machine learning specialist     1474\n",
       "Database administrator                             245\n",
       "DevOps specialist                                 1217\n",
       "Developer, QA or test                              562\n",
       "Developer, back-end                              13045\n",
       "Developer, desktop or enterprise applications     3745\n",
       "Developer, embedded applications or devices       1780\n",
       "Developer, front-end                              4915\n",
       "Developer, full-stack                            23303\n",
       "Developer, game or graphics                        824\n",
       "Developer, mobile                                 2512\n",
       "Engineer, data                                    1170\n",
       "Hardware Engineer                                  278\n",
       "Scientist                                          331\n",
       "Security professional                              416\n",
       "System administrator                               689\n",
       "dtype: int64"
      ]
     },
     "execution_count": 105,
     "metadata": {},
     "output_type": "execute_result"
    }
   ],
   "source": [
    "roles_df = combined_df['DevType'].copy()\n",
    "roles_df.sum(axis=0)"
   ]
  },
  {
   "cell_type": "markdown",
   "id": "19ecc2b0",
   "metadata": {},
   "source": [
    "#### Handling the imbalance"
   ]
  },
  {
   "cell_type": "code",
   "execution_count": 106,
   "id": "8044b07f",
   "metadata": {},
   "outputs": [],
   "source": [
    "# Resample roles\n",
    "samples_per_class = 1400\n",
    "resampled_roles = []"
   ]
  },
  {
   "cell_type": "code",
   "execution_count": 107,
   "id": "4c818bb2",
   "metadata": {},
   "outputs": [],
   "source": [
    "for role_col in roles_df.columns:\n",
    "    sub_df = roles_df.loc[roles_df[role_col] == 1].copy()\n",
    "\n",
    "    if len(sub_df) / samples_per_class < 1 :\n",
    "        # Upsample\n",
    "        t = len(sub_df) *   (len(sub_df) / samples_per_class) \n",
    "        amo = t + samples_per_class\n",
    "        sub_df = sub_df.sample(int(amo), replace=True, random_state=0)\n",
    "    else:\n",
    "        # Downsample\n",
    "        t = (len(sub_df) / samples_per_class) \n",
    "        if t > 2 :\n",
    "            t/= 2\n",
    "        amo = samples_per_class * t\n",
    "\n",
    "        sub_df = sub_df.sample(int(amo), random_state=0)\n",
    "\n",
    "    resampled_roles.append(sub_df)"
   ]
  },
  {
   "cell_type": "code",
   "execution_count": 108,
   "id": "ce64ab27",
   "metadata": {},
   "outputs": [],
   "source": [
    "# Construct dfs\n",
    "roles_df = pd.concat(resampled_roles)\n",
    "df = df.loc[roles_df.index].copy()"
   ]
  },
  {
   "cell_type": "code",
   "execution_count": 109,
   "id": "98363c14",
   "metadata": {},
   "outputs": [
    {
     "data": {
      "text/plain": [
       "Academic researcher                               2575\n",
       "Cloud infrastructure engineer                     2019\n",
       "Data or business analyst                          1872\n",
       "Data scientist or machine learning specialist     1474\n",
       "Database administrator                            1442\n",
       "DevOps specialist                                 2457\n",
       "Developer, QA or test                             1625\n",
       "Developer, back-end                               6522\n",
       "Developer, desktop or enterprise applications     1872\n",
       "Developer, embedded applications or devices       1780\n",
       "Developer, front-end                              2457\n",
       "Developer, full-stack                            11651\n",
       "Developer, game or graphics                       1884\n",
       "Developer, mobile                                 2512\n",
       "Engineer, data                                    2377\n",
       "Hardware Engineer                                 1455\n",
       "Scientist                                         1478\n",
       "Security professional                             1523\n",
       "System administrator                              1739\n",
       "dtype: int64"
      ]
     },
     "execution_count": 109,
     "metadata": {},
     "output_type": "execute_result"
    }
   ],
   "source": [
    "roles_df.sum(axis=0)"
   ]
  },
  {
   "cell_type": "code",
   "execution_count": 110,
   "id": "050b7e05",
   "metadata": {},
   "outputs": [],
   "source": [
    "X=df['Clusters']\n",
    "y = df['DevType'].idxmax(axis=1)"
   ]
  },
  {
   "cell_type": "markdown",
   "id": "316c4cc3",
   "metadata": {},
   "source": [
    "### Basic RandomForest model"
   ]
  },
  {
   "cell_type": "code",
   "execution_count": 111,
   "id": "3037a081",
   "metadata": {},
   "outputs": [],
   "source": [
    "X_train, X_test, y_train, y_test = train_test_split(X, y, test_size=0.15,stratify=y,  random_state=42)"
   ]
  },
  {
   "cell_type": "code",
   "execution_count": 112,
   "id": "c8dc3bc7",
   "metadata": {},
   "outputs": [],
   "source": [
    "numeric_cols = X_train.columns"
   ]
  },
  {
   "cell_type": "code",
   "execution_count": 113,
   "id": "c457d042",
   "metadata": {},
   "outputs": [],
   "source": [
    "preprocessor = ColumnTransformer(\n",
    "                transformers=[\n",
    "                    ('num', RobustScaler(), numeric_cols)\n",
    "                ]\n",
    ")"
   ]
  },
  {
   "cell_type": "code",
   "execution_count": 114,
   "id": "1c86b9d5",
   "metadata": {},
   "outputs": [
    {
     "name": "stderr",
     "output_type": "stream",
     "text": [
      "[Parallel(n_jobs=-1)]: Using backend ThreadingBackend with 16 concurrent workers.\n",
      "[Parallel(n_jobs=-1)]: Done  18 tasks      | elapsed:    0.4s\n",
      "[Parallel(n_jobs=-1)]: Done 100 out of 100 | elapsed:    1.6s finished\n"
     ]
    },
    {
     "data": {
      "text/plain": [
       "Pipeline(steps=[('preprocessor',\n",
       "                 ColumnTransformer(transformers=[('num', RobustScaler(),\n",
       "                                                  Index(['skills_group_0', 'skills_group_1', 'skills_group_10',\n",
       "       'skills_group_11', 'skills_group_12', 'skills_group_13',\n",
       "       'skills_group_14', 'skills_group_15', 'skills_group_16',\n",
       "       'skills_group_17', 'skills_group_18', 'skills_group_19',\n",
       "       'skills_group_2', 'skills_group_20', 'skills_group_21',\n",
       "       'skills_group_22', 'skills_group_23', 'skills_group_24',\n",
       "       'skills_group_3', 'skills_group_4', 'skills_group_5', 'skills_group_6',\n",
       "       'skills_group_7', 'skills_group_9'],\n",
       "      dtype='object'))])),\n",
       "                ('pca', PCA(n_components=0.99)),\n",
       "                ('classifier',\n",
       "                 RandomForestClassifier(n_jobs=-1, random_state=42,\n",
       "                                        verbose=1))])"
      ]
     },
     "execution_count": 114,
     "metadata": {},
     "output_type": "execute_result"
    }
   ],
   "source": [
    "rf_clf = Pipeline([\n",
    "    \n",
    "    ('preprocessor', preprocessor),\n",
    "    ('pca', PCA(n_components=0.99)),\n",
    "    ('classifier', RandomForestClassifier(n_jobs=-1, verbose=1, random_state=42))\n",
    "])\n",
    "\n",
    "rf_clf.fit(X_train, y_train)"
   ]
  },
  {
   "cell_type": "code",
   "execution_count": 115,
   "id": "bf56e747",
   "metadata": {},
   "outputs": [
    {
     "name": "stderr",
     "output_type": "stream",
     "text": [
      "[Parallel(n_jobs=16)]: Using backend ThreadingBackend with 16 concurrent workers.\n",
      "[Parallel(n_jobs=16)]: Done  18 tasks      | elapsed:    0.0s\n",
      "[Parallel(n_jobs=16)]: Done 100 out of 100 | elapsed:    0.0s finished\n"
     ]
    }
   ],
   "source": [
    "y_pred = rf_clf.predict(X_test)"
   ]
  },
  {
   "cell_type": "code",
   "execution_count": 116,
   "id": "841ad733",
   "metadata": {},
   "outputs": [
    {
     "name": "stdout",
     "output_type": "stream",
     "text": [
      "                                               precision    recall  f1-score   support\n",
      "\n",
      "                          Academic researcher       0.77      0.78      0.78       386\n",
      "                Cloud infrastructure engineer       0.91      0.88      0.89       303\n",
      "                     Data or business analyst       0.81      0.81      0.81       281\n",
      "Data scientist or machine learning specialist       0.68      0.54      0.60       221\n",
      "                       Database administrator       0.88      0.94      0.91       216\n",
      "                            DevOps specialist       0.91      0.81      0.86       369\n",
      "                        Developer, QA or test       0.91      0.83      0.87       244\n",
      "                          Developer, back-end       0.52      0.39      0.45       978\n",
      "Developer, desktop or enterprise applications       0.35      0.16      0.22       281\n",
      "  Developer, embedded applications or devices       0.45      0.43      0.44       267\n",
      "                         Developer, front-end       0.56      0.28      0.37       369\n",
      "                        Developer, full-stack       0.59      0.80      0.67      1748\n",
      "                  Developer, game or graphics       0.84      0.89      0.86       283\n",
      "                            Developer, mobile       0.75      0.67      0.71       377\n",
      "                               Engineer, data       0.81      0.85      0.83       356\n",
      "                            Hardware Engineer       0.72      0.94      0.81       218\n",
      "                                    Scientist       0.82      0.89      0.85       222\n",
      "                        Security professional       0.95      0.93      0.94       228\n",
      "                         System administrator       0.89      0.80      0.84       261\n",
      "\n",
      "                                     accuracy                           0.70      7608\n",
      "                                    macro avg       0.74      0.72      0.72      7608\n",
      "                                 weighted avg       0.69      0.70      0.68      7608\n",
      "\n"
     ]
    }
   ],
   "source": [
    "print (classification_report(y_test, y_pred))"
   ]
  },
  {
   "cell_type": "code",
   "execution_count": 117,
   "id": "04502c5d",
   "metadata": {},
   "outputs": [
    {
     "data": {
      "text/plain": [
       "0.6828606760279509"
      ]
     },
     "execution_count": 117,
     "metadata": {},
     "output_type": "execute_result"
    }
   ],
   "source": [
    "f1=f1_score(y_test, y_pred, average='weighted')\n",
    "f1"
   ]
  },
  {
   "cell_type": "code",
   "execution_count": 118,
   "id": "7e90dd15",
   "metadata": {},
   "outputs": [],
   "source": [
    "precision=precision_score(y_test, y_pred, average='weighted')"
   ]
  },
  {
   "cell_type": "code",
   "execution_count": 119,
   "id": "31dbc0e8",
   "metadata": {},
   "outputs": [],
   "source": [
    "recall=recall_score(y_test, y_pred, average='weighted')"
   ]
  },
  {
   "cell_type": "code",
   "execution_count": 120,
   "id": "77aab78c",
   "metadata": {},
   "outputs": [],
   "source": [
    "# where to create the mlruns folder\n",
    "MLFLOW_TRACKING_URI = '../models/mlruns'\n",
    "mlflow.set_tracking_uri(MLFLOW_TRACKING_URI)\n"
   ]
  },
  {
   "cell_type": "code",
   "execution_count": 47,
   "id": "d9b6ed70",
   "metadata": {},
   "outputs": [],
   "source": [
    "experiment_name = \"rf_job_predict\"\n",
    "artifact_location = r\"..\\models\\Models\"\n",
    "experiment_id = mlflow.create_experiment(experiment_name, artifact_location)\n"
   ]
  },
  {
   "cell_type": "code",
   "execution_count": 48,
   "id": "afae4b0c",
   "metadata": {},
   "outputs": [],
   "source": [
    "# Set MLFLOW_EXPERIMENT_LOCATION to the desired artifact location\n",
    "os.environ[\"MLFLOW_EXPERIMENT_LOCATION\"] = artifact_location"
   ]
  },
  {
   "cell_type": "code",
   "execution_count": 55,
   "id": "fe00593a",
   "metadata": {},
   "outputs": [],
   "source": [
    "with mlflow.start_run(experiment_id=experiment_id):\n",
    "    # Log parameters\n",
    "    mlflow.log_param(\"PCA n_components\", 0.99)\n",
    "\n",
    "    # Log metrics\n",
    "    mlflow.log_metric(\"f1_score\", f1)\n",
    "    mlflow.log_metric(\"recall\", recall)\n",
    "    mlflow.log_metric(\"precision\", precision)\n",
    "    mlflow.sklearn.log_model(rf_clf, \" Basic RandomForestClassifier with PCA\")"
   ]
  },
  {
   "cell_type": "markdown",
   "id": "ec09a436",
   "metadata": {},
   "source": [
    "### Hyperparameter Tuning"
   ]
  },
  {
   "cell_type": "code",
   "execution_count": 121,
   "id": "dc60bdab",
   "metadata": {},
   "outputs": [],
   "source": [
    "param_grid = {\n",
    "    'pca__n_components': [0.9, 0.95, 0.99], \n",
    "    'classifier__n_estimators': [10, 20, 25, 30 ],\n",
    "    'classifier__max_depth': [None,5, 10],\n",
    "    'classifier__min_samples_split': [2, 3, 4],\n",
    "    'classifier__min_samples_leaf': [1, 2, 4]\n",
    "    \n",
    "}\n"
   ]
  },
  {
   "cell_type": "code",
   "execution_count": 122,
   "id": "757b41f4",
   "metadata": {},
   "outputs": [],
   "source": [
    "hpt_rf_clf = GridSearchCV(rf_clf, param_grid, cv=3, scoring='accuracy', n_jobs=-1)\n"
   ]
  },
  {
   "cell_type": "code",
   "execution_count": 123,
   "id": "42d441e5",
   "metadata": {},
   "outputs": [
    {
     "name": "stderr",
     "output_type": "stream",
     "text": [
      "[Parallel(n_jobs=-1)]: Using backend ThreadingBackend with 16 concurrent workers.\n",
      "[Parallel(n_jobs=-1)]: Done  30 out of  30 | elapsed:    0.4s remaining:    0.0s\n",
      "[Parallel(n_jobs=-1)]: Done  30 out of  30 | elapsed:    0.4s finished\n"
     ]
    },
    {
     "data": {
      "text/plain": [
       "GridSearchCV(cv=3,\n",
       "             estimator=Pipeline(steps=[('preprocessor',\n",
       "                                        ColumnTransformer(transformers=[('num',\n",
       "                                                                         RobustScaler(),\n",
       "                                                                         Index(['skills_group_0', 'skills_group_1', 'skills_group_10',\n",
       "       'skills_group_11', 'skills_group_12', 'skills_group_13',\n",
       "       'skills_group_14', 'skills_group_15', 'skills_group_16',\n",
       "       'skills_group_17', 'skills_group_18', 'skills_group_19',\n",
       "       'skills_group_2...\n",
       "      dtype='object'))])),\n",
       "                                       ('pca', PCA(n_components=0.99)),\n",
       "                                       ('classifier',\n",
       "                                        RandomForestClassifier(n_jobs=-1,\n",
       "                                                               random_state=42,\n",
       "                                                               verbose=1))]),\n",
       "             n_jobs=-1,\n",
       "             param_grid={'classifier__max_depth': [None, 5, 10],\n",
       "                         'classifier__min_samples_leaf': [1, 2, 4],\n",
       "                         'classifier__min_samples_split': [2, 3, 4],\n",
       "                         'classifier__n_estimators': [10, 20, 25, 30],\n",
       "                         'pca__n_components': [0.9, 0.95, 0.99]},\n",
       "             scoring='accuracy')"
      ]
     },
     "execution_count": 123,
     "metadata": {},
     "output_type": "execute_result"
    }
   ],
   "source": [
    "hpt_rf_clf.fit(X_train, y_train)\n"
   ]
  },
  {
   "cell_type": "code",
   "execution_count": 124,
   "id": "9bb0e8b3",
   "metadata": {},
   "outputs": [
    {
     "name": "stdout",
     "output_type": "stream",
     "text": [
      "Best Parameters: {'classifier__max_depth': None, 'classifier__min_samples_leaf': 1, 'classifier__min_samples_split': 3, 'classifier__n_estimators': 30, 'pca__n_components': 0.99}\n"
     ]
    }
   ],
   "source": [
    "# Get the best parameters and best estimator\n",
    "best_params = hpt_rf_clf.best_params_\n",
    "best_estimator = hpt_rf_clf.best_estimator_\n",
    "\n",
    "# Print the best parameters\n",
    "print(\"Best Parameters:\", best_params)"
   ]
  },
  {
   "cell_type": "code",
   "execution_count": 125,
   "id": "dde43abe",
   "metadata": {},
   "outputs": [
    {
     "name": "stderr",
     "output_type": "stream",
     "text": [
      "[Parallel(n_jobs=-1)]: Using backend ThreadingBackend with 16 concurrent workers.\n",
      "[Parallel(n_jobs=-1)]: Done  30 out of  30 | elapsed:    0.4s remaining:    0.0s\n",
      "[Parallel(n_jobs=-1)]: Done  30 out of  30 | elapsed:    0.4s finished\n"
     ]
    },
    {
     "data": {
      "text/plain": [
       "Pipeline(steps=[('preprocessor',\n",
       "                 ColumnTransformer(transformers=[('num', RobustScaler(),\n",
       "                                                  Index(['skills_group_0', 'skills_group_1', 'skills_group_10',\n",
       "       'skills_group_11', 'skills_group_12', 'skills_group_13',\n",
       "       'skills_group_14', 'skills_group_15', 'skills_group_16',\n",
       "       'skills_group_17', 'skills_group_18', 'skills_group_19',\n",
       "       'skills_group_2', 'skills_group_20', 'skills_group_21',\n",
       "       'skills_group_22', 'skills_group_23', 'skills_group_24',\n",
       "       'skills_group_3', 'skills_group_4', 'skills_group_5', 'skills_group_6',\n",
       "       'skills_group_7', 'skills_group_9'],\n",
       "      dtype='object'))])),\n",
       "                ('pca', PCA(n_components=0.99)),\n",
       "                ('classifier',\n",
       "                 RandomForestClassifier(min_samples_split=3, n_estimators=30,\n",
       "                                        n_jobs=-1, random_state=42,\n",
       "                                        verbose=1))])"
      ]
     },
     "execution_count": 125,
     "metadata": {},
     "output_type": "execute_result"
    }
   ],
   "source": [
    "best_estimator.fit(X_train, y_train)"
   ]
  },
  {
   "cell_type": "code",
   "execution_count": 126,
   "id": "88d7572e",
   "metadata": {},
   "outputs": [
    {
     "name": "stderr",
     "output_type": "stream",
     "text": [
      "[Parallel(n_jobs=16)]: Using backend ThreadingBackend with 16 concurrent workers.\n",
      "[Parallel(n_jobs=16)]: Done  30 out of  30 | elapsed:    0.0s remaining:    0.0s\n",
      "[Parallel(n_jobs=16)]: Done  30 out of  30 | elapsed:    0.0s finished\n"
     ]
    }
   ],
   "source": [
    "y_pred = best_estimator.predict(X_test)"
   ]
  },
  {
   "cell_type": "code",
   "execution_count": 137,
   "id": "b5a7a586",
   "metadata": {},
   "outputs": [
    {
     "data": {
      "text/plain": [
       "0.6894058885383807"
      ]
     },
     "execution_count": 137,
     "metadata": {},
     "output_type": "execute_result"
    }
   ],
   "source": [
    "f1=f1_score(y_test,y_pred, average='micro')\n",
    "f1"
   ]
  },
  {
   "cell_type": "code",
   "execution_count": 134,
   "id": "ca7a3e14",
   "metadata": {},
   "outputs": [],
   "source": [
    "precision=precision_score(y_test, y_pred, average='weighted')"
   ]
  },
  {
   "cell_type": "code",
   "execution_count": null,
   "id": "0d2eccd7",
   "metadata": {},
   "outputs": [],
   "source": [
    "recall=recall_score(y_test, y_pred, average='weighted')"
   ]
  },
  {
   "cell_type": "code",
   "execution_count": 143,
   "id": "7b2428ae",
   "metadata": {},
   "outputs": [],
   "source": [
    "experiment = mlflow.get_experiment_by_name('rf_job_predict')"
   ]
  },
  {
   "cell_type": "code",
   "execution_count": 144,
   "id": "68e0c884",
   "metadata": {},
   "outputs": [],
   "source": [
    "artifact_location = r\"..\\models\\Models\"\n",
    "os.environ[\"MLFLOW_EXPERIMENT_LOCATION\"] = artifact_location"
   ]
  },
  {
   "cell_type": "code",
   "execution_count": 145,
   "id": "508c30ad",
   "metadata": {},
   "outputs": [],
   "source": [
    "with mlflow.start_run(experiment_id=experiment.experiment_id):\n",
    "    # Log parameters\n",
    "    mlflow.log_param(\"PCA n_components\", 0.99)\n",
    "    mlflow.log_param('classifier__max_depth', None)\n",
    "    mlflow.log_param('min_samples_leaf', 1)\n",
    "    mlflow.log_param('min_samples_split', 3)\n",
    "    mlflow.log_param('n_estimators', 30)\n",
    "\n",
    "    # Log metrics\n",
    "    mlflow.log_metric(\"f1_score\", f1)\n",
    "    mlflow.log_metric(\"recall\", recall)\n",
    "    mlflow.log_metric(\"precision\", precision)\n",
    "    mlflow.sklearn.log_model(best_estimator, \"rf with hyperparameter tuning\")"
   ]
  },
  {
   "cell_type": "code",
   "execution_count": null,
   "id": "a5909904",
   "metadata": {},
   "outputs": [],
   "source": []
  }
 ],
 "metadata": {
  "kernelspec": {
   "display_name": "Python 3 (ipykernel)",
   "language": "python",
   "name": "python3"
  },
  "language_info": {
   "codemirror_mode": {
    "name": "ipython",
    "version": 3
   },
   "file_extension": ".py",
   "mimetype": "text/x-python",
   "name": "python",
   "nbconvert_exporter": "python",
   "pygments_lexer": "ipython3",
   "version": "3.9.12"
  }
 },
 "nbformat": 4,
 "nbformat_minor": 5
}
