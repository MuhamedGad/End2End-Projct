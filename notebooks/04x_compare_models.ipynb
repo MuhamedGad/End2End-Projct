{
 "cells": [
  {
   "cell_type": "code",
   "execution_count": 1,
   "id": "51e02db6",
   "metadata": {},
   "outputs": [],
   "source": [
    "MLFLOW_TRACKING_URI = '../models/mlruns'\n",
    "MLFLOW_EXPERIMENT_NAME = \"rf_job_predict\""
   ]
  },
  {
   "cell_type": "code",
   "execution_count": 2,
   "id": "e09ae547",
   "metadata": {},
   "outputs": [],
   "source": [
    "import mlflow\n",
    "from mlflow.tracking import MlflowClient\n",
    "\n",
    "import pandas as pd"
   ]
  },
  {
   "cell_type": "code",
   "execution_count": 3,
   "id": "b1218ffd",
   "metadata": {},
   "outputs": [],
   "source": [
    "# Initialize client\n",
    "mlflow.set_tracking_uri(MLFLOW_TRACKING_URI)\n",
    "client = MlflowClient()"
   ]
  },
  {
   "cell_type": "code",
   "execution_count": 4,
   "id": "d5d4855c",
   "metadata": {},
   "outputs": [
    {
     "data": {
      "text/plain": [
       "<Experiment: artifact_location=('file:///C:/Users/Mohamed Gad/OneDrive/Desktop/Only '\n",
       " 'Now!!!/Project/Project/End to End Projct/notebooks/../models/Models'), creation_time=1704435507285, experiment_id='575363623956959736', last_update_time=1704435507285, lifecycle_stage='active', name='rf_job_predict', tags={}>"
      ]
     },
     "execution_count": 4,
     "metadata": {},
     "output_type": "execute_result"
    }
   ],
   "source": [
    "# Get experiment\n",
    "experiment = client.get_experiment_by_name(MLFLOW_EXPERIMENT_NAME)\n",
    "experiment"
   ]
  },
  {
   "cell_type": "code",
   "execution_count": 5,
   "id": "28fee164",
   "metadata": {},
   "outputs": [
    {
     "data": {
      "text/html": [
       "<div>\n",
       "<style scoped>\n",
       "    .dataframe tbody tr th:only-of-type {\n",
       "        vertical-align: middle;\n",
       "    }\n",
       "\n",
       "    .dataframe tbody tr th {\n",
       "        vertical-align: top;\n",
       "    }\n",
       "\n",
       "    .dataframe thead th {\n",
       "        text-align: right;\n",
       "    }\n",
       "</style>\n",
       "<table border=\"1\" class=\"dataframe\">\n",
       "  <thead>\n",
       "    <tr style=\"text-align: right;\">\n",
       "      <th></th>\n",
       "      <th>run_id</th>\n",
       "      <th>experiment_id</th>\n",
       "      <th>status</th>\n",
       "      <th>artifact_uri</th>\n",
       "      <th>start_time</th>\n",
       "      <th>end_time</th>\n",
       "      <th>metrics.precision</th>\n",
       "      <th>metrics.f1_score</th>\n",
       "      <th>metrics.recall</th>\n",
       "      <th>params.n_estimators</th>\n",
       "      <th>params.classifier__max_depth</th>\n",
       "      <th>params.min_samples_split</th>\n",
       "      <th>params.PCA n_components</th>\n",
       "      <th>params.min_samples_leaf</th>\n",
       "      <th>tags.mlflow.source.type</th>\n",
       "      <th>tags.mlflow.source.name</th>\n",
       "      <th>tags.mlflow.user</th>\n",
       "      <th>tags.mlflow.runName</th>\n",
       "      <th>tags.mlflow.log-model.history</th>\n",
       "    </tr>\n",
       "  </thead>\n",
       "  <tbody>\n",
       "    <tr>\n",
       "      <th>0</th>\n",
       "      <td>75d4db5c203e46798b0a0ad64bba0401</td>\n",
       "      <td>575363623956959736</td>\n",
       "      <td>FINISHED</td>\n",
       "      <td>file:///C:/Users/Mohamed Gad/OneDrive/Desktop/...</td>\n",
       "      <td>2024-01-05 14:32:21.778000+00:00</td>\n",
       "      <td>2024-01-05 14:32:32.270000+00:00</td>\n",
       "      <td>0.682708</td>\n",
       "      <td>0.689406</td>\n",
       "      <td>0.695058</td>\n",
       "      <td>30</td>\n",
       "      <td>None</td>\n",
       "      <td>3</td>\n",
       "      <td>0.99</td>\n",
       "      <td>1</td>\n",
       "      <td>LOCAL</td>\n",
       "      <td>C:\\Users\\Mohamed Gad\\anaconda3\\lib\\site-packag...</td>\n",
       "      <td>Mohamed Gad</td>\n",
       "      <td>colorful-snake-51</td>\n",
       "      <td>[{\"run_id\": \"75d4db5c203e46798b0a0ad64bba0401\"...</td>\n",
       "    </tr>\n",
       "    <tr>\n",
       "      <th>1</th>\n",
       "      <td>7998af4e6d8a4ab7b9365772bff3a01c</td>\n",
       "      <td>575363623956959736</td>\n",
       "      <td>FINISHED</td>\n",
       "      <td>file:///C:/Users/Mohamed Gad/OneDrive/Desktop/...</td>\n",
       "      <td>2024-01-05 06:21:56.752000+00:00</td>\n",
       "      <td>2024-01-05 06:22:02.430000+00:00</td>\n",
       "      <td>0.689680</td>\n",
       "      <td>0.682861</td>\n",
       "      <td>0.695058</td>\n",
       "      <td>None</td>\n",
       "      <td>None</td>\n",
       "      <td>None</td>\n",
       "      <td>0.99</td>\n",
       "      <td>None</td>\n",
       "      <td>LOCAL</td>\n",
       "      <td>C:\\Users\\Mohamed Gad\\anaconda3\\lib\\site-packag...</td>\n",
       "      <td>Mohamed Gad</td>\n",
       "      <td>overjoyed-pig-101</td>\n",
       "      <td>[{\"run_id\": \"7998af4e6d8a4ab7b9365772bff3a01c\"...</td>\n",
       "    </tr>\n",
       "  </tbody>\n",
       "</table>\n",
       "</div>"
      ],
      "text/plain": [
       "                             run_id       experiment_id    status  \\\n",
       "0  75d4db5c203e46798b0a0ad64bba0401  575363623956959736  FINISHED   \n",
       "1  7998af4e6d8a4ab7b9365772bff3a01c  575363623956959736  FINISHED   \n",
       "\n",
       "                                        artifact_uri  \\\n",
       "0  file:///C:/Users/Mohamed Gad/OneDrive/Desktop/...   \n",
       "1  file:///C:/Users/Mohamed Gad/OneDrive/Desktop/...   \n",
       "\n",
       "                        start_time                         end_time  \\\n",
       "0 2024-01-05 14:32:21.778000+00:00 2024-01-05 14:32:32.270000+00:00   \n",
       "1 2024-01-05 06:21:56.752000+00:00 2024-01-05 06:22:02.430000+00:00   \n",
       "\n",
       "   metrics.precision  metrics.f1_score  metrics.recall params.n_estimators  \\\n",
       "0           0.682708          0.689406        0.695058                  30   \n",
       "1           0.689680          0.682861        0.695058                None   \n",
       "\n",
       "  params.classifier__max_depth params.min_samples_split  \\\n",
       "0                         None                        3   \n",
       "1                         None                     None   \n",
       "\n",
       "  params.PCA n_components params.min_samples_leaf tags.mlflow.source.type  \\\n",
       "0                    0.99                       1                   LOCAL   \n",
       "1                    0.99                    None                   LOCAL   \n",
       "\n",
       "                             tags.mlflow.source.name tags.mlflow.user  \\\n",
       "0  C:\\Users\\Mohamed Gad\\anaconda3\\lib\\site-packag...      Mohamed Gad   \n",
       "1  C:\\Users\\Mohamed Gad\\anaconda3\\lib\\site-packag...      Mohamed Gad   \n",
       "\n",
       "  tags.mlflow.runName                      tags.mlflow.log-model.history  \n",
       "0   colorful-snake-51  [{\"run_id\": \"75d4db5c203e46798b0a0ad64bba0401\"...  \n",
       "1   overjoyed-pig-101  [{\"run_id\": \"7998af4e6d8a4ab7b9365772bff3a01c\"...  "
      ]
     },
     "execution_count": 5,
     "metadata": {},
     "output_type": "execute_result"
    }
   ],
   "source": [
    "runs = mlflow.search_runs([experiment.experiment_id])\n",
    "runs"
   ]
  },
  {
   "cell_type": "code",
   "execution_count": null,
   "id": "f8218331",
   "metadata": {},
   "outputs": [],
   "source": []
  }
 ],
 "metadata": {
  "kernelspec": {
   "display_name": "Python 3 (ipykernel)",
   "language": "python",
   "name": "python3"
  },
  "language_info": {
   "codemirror_mode": {
    "name": "ipython",
    "version": 3
   },
   "file_extension": ".py",
   "mimetype": "text/x-python",
   "name": "python",
   "nbconvert_exporter": "python",
   "pygments_lexer": "ipython3",
   "version": "3.9.12"
  }
 },
 "nbformat": 4,
 "nbformat_minor": 5
}
