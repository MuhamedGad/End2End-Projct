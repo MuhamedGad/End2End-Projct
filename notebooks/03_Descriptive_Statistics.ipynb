{
 "cells": [
  {
   "cell_type": "code",
   "execution_count": 1,
   "id": "3f8ca5a1",
   "metadata": {},
   "outputs": [],
   "source": [
    "# Paths\n",
    "DATA_PATH = r\"..\\data\\processed\\processed_1.pkl\""
   ]
  },
  {
   "cell_type": "code",
   "execution_count": 2,
   "id": "934781d7",
   "metadata": {},
   "outputs": [],
   "source": [
    "TECH_COLS = ['LanguageHaveWorkedWith', 'DatabaseHaveWorkedWith', \n",
    "             'PlatformHaveWorkedWith', 'WebframeHaveWorkedWith', \n",
    "             'MiscTechHaveWorkedWith', 'ToolsTechHaveWorkedWith']\n",
    "\n",
    "TECH_NEXT_COLS = ['LanguageWantToWorkWith', 'DatabaseWantToWorkWith', \n",
    "                  'PlatformWantToWorkWith', 'WebframeWantToWorkWith', \n",
    "                  'MiscTechWantToWorkWith', 'ToolsTechWantToWorkWith']\n",
    "\n",
    "ROLE_COLS = ['DevType']"
   ]
  },
  {
   "cell_type": "code",
   "execution_count": 3,
   "id": "9c6e325f",
   "metadata": {},
   "outputs": [],
   "source": [
    "import numpy as np\n",
    "import pandas as pd\n",
    "import matplotlib.pyplot as plt\n",
    "import plotly.express as px\n",
    "from sklearn.preprocessing import MultiLabelBinarizer\n",
    "from sklearn.preprocessing import OneHotEncoder\n"
   ]
  },
  {
   "cell_type": "code",
   "execution_count": 4,
   "id": "498b852e",
   "metadata": {},
   "outputs": [],
   "source": [
    "processed_df = pd.read_pickle(DATA_PATH)"
   ]
  },
  {
   "cell_type": "code",
   "execution_count": 5,
   "id": "5c0ed857",
   "metadata": {},
   "outputs": [],
   "source": [
    "df = processed_df.copy()"
   ]
  },
  {
   "cell_type": "code",
   "execution_count": 6,
   "id": "e71acf62",
   "metadata": {},
   "outputs": [],
   "source": [
    "# One hot encoding\n",
    "encoded_dfs = {}\n",
    "for col in TECH_COLS :\n",
    "    mlb = MultiLabelBinarizer()\n",
    "    one_hot_encoded = pd.DataFrame(mlb.fit_transform(df[col]), columns=mlb.classes_, index=df.index)\n",
    "    encoded_dfs[col] = one_hot_encoded\n",
    "df = pd.concat( encoded_dfs, axis=1)\n"
   ]
  },
  {
   "cell_type": "code",
   "execution_count": 7,
   "id": "50ef2e78",
   "metadata": {},
   "outputs": [],
   "source": [
    "role_col = processed_df['DevType']\n",
    "one_hot_single_col = pd.get_dummies(role_col)\n"
   ]
  },
  {
   "cell_type": "code",
   "execution_count": 8,
   "id": "562ccdbd",
   "metadata": {},
   "outputs": [],
   "source": [
    "multi_level_columns = pd.MultiIndex.from_product([['DevType'], one_hot_single_col.columns])\n"
   ]
  },
  {
   "cell_type": "code",
   "execution_count": 9,
   "id": "772b0fc9",
   "metadata": {},
   "outputs": [],
   "source": [
    "one_hot_single_col.columns = multi_level_columns\n"
   ]
  },
  {
   "cell_type": "code",
   "execution_count": 10,
   "id": "c85a9585",
   "metadata": {},
   "outputs": [],
   "source": [
    "df = pd.concat([df, one_hot_single_col], axis=1)\n"
   ]
  },
  {
   "cell_type": "code",
   "execution_count": 16,
   "id": "2b8b30da",
   "metadata": {},
   "outputs": [
    {
     "name": "stderr",
     "output_type": "stream",
     "text": [
      "C:\\Users\\Mohamed Gad\\AppData\\Local\\Temp\\ipykernel_19444\\1766006599.py:1: PerformanceWarning: dropping on a non-lexsorted multi-index without a level parameter may impact performance.\n",
      "  skill_freq = df.drop('DevType', axis=1).sum().reset_index()\n"
     ]
    },
    {
     "data": {
      "text/html": [
       "<div>\n",
       "<style scoped>\n",
       "    .dataframe tbody tr th:only-of-type {\n",
       "        vertical-align: middle;\n",
       "    }\n",
       "\n",
       "    .dataframe tbody tr th {\n",
       "        vertical-align: top;\n",
       "    }\n",
       "\n",
       "    .dataframe thead th {\n",
       "        text-align: right;\n",
       "    }\n",
       "</style>\n",
       "<table border=\"1\" class=\"dataframe\">\n",
       "  <thead>\n",
       "    <tr style=\"text-align: right;\">\n",
       "      <th></th>\n",
       "      <th>Group</th>\n",
       "      <th>Skill</th>\n",
       "      <th>Freq</th>\n",
       "    </tr>\n",
       "  </thead>\n",
       "  <tbody>\n",
       "    <tr>\n",
       "      <th>0</th>\n",
       "      <td>LanguageHaveWorkedWith</td>\n",
       "      <td></td>\n",
       "      <td>2044</td>\n",
       "    </tr>\n",
       "    <tr>\n",
       "      <th>1</th>\n",
       "      <td>LanguageHaveWorkedWith</td>\n",
       "      <td>APL</td>\n",
       "      <td>225</td>\n",
       "    </tr>\n",
       "    <tr>\n",
       "      <th>2</th>\n",
       "      <td>LanguageHaveWorkedWith</td>\n",
       "      <td>Ada</td>\n",
       "      <td>677</td>\n",
       "    </tr>\n",
       "    <tr>\n",
       "      <th>3</th>\n",
       "      <td>LanguageHaveWorkedWith</td>\n",
       "      <td>Apex</td>\n",
       "      <td>579</td>\n",
       "    </tr>\n",
       "    <tr>\n",
       "      <th>4</th>\n",
       "      <td>LanguageHaveWorkedWith</td>\n",
       "      <td>Assembly</td>\n",
       "      <td>4753</td>\n",
       "    </tr>\n",
       "  </tbody>\n",
       "</table>\n",
       "</div>"
      ],
      "text/plain": [
       "                    Group     Skill  Freq\n",
       "0  LanguageHaveWorkedWith            2044\n",
       "1  LanguageHaveWorkedWith       APL   225\n",
       "2  LanguageHaveWorkedWith       Ada   677\n",
       "3  LanguageHaveWorkedWith      Apex   579\n",
       "4  LanguageHaveWorkedWith  Assembly  4753"
      ]
     },
     "execution_count": 16,
     "metadata": {},
     "output_type": "execute_result"
    }
   ],
   "source": [
    "skill_freq = df.drop('DevType', axis=1).sum().reset_index()       \n",
    "skill_freq.columns = ['Group', 'Skill', 'Freq']\n",
    "skill_freq.head()"
   ]
  },
  {
   "cell_type": "code",
   "execution_count": 15,
   "id": "8418e9f8",
   "metadata": {},
   "outputs": [
    {
     "data": {
      "text/html": [
       "<div>\n",
       "<style scoped>\n",
       "    .dataframe tbody tr th:only-of-type {\n",
       "        vertical-align: middle;\n",
       "    }\n",
       "\n",
       "    .dataframe tbody tr th {\n",
       "        vertical-align: top;\n",
       "    }\n",
       "\n",
       "    .dataframe thead th {\n",
       "        text-align: right;\n",
       "    }\n",
       "</style>\n",
       "<table border=\"1\" class=\"dataframe\">\n",
       "  <thead>\n",
       "    <tr style=\"text-align: right;\">\n",
       "      <th></th>\n",
       "      <th>level_0</th>\n",
       "      <th>level_1</th>\n",
       "      <th>0</th>\n",
       "    </tr>\n",
       "  </thead>\n",
       "  <tbody>\n",
       "    <tr>\n",
       "      <th>0</th>\n",
       "      <td>LanguageHaveWorkedWith</td>\n",
       "      <td></td>\n",
       "      <td>2044</td>\n",
       "    </tr>\n",
       "    <tr>\n",
       "      <th>1</th>\n",
       "      <td>LanguageHaveWorkedWith</td>\n",
       "      <td>APL</td>\n",
       "      <td>225</td>\n",
       "    </tr>\n",
       "    <tr>\n",
       "      <th>2</th>\n",
       "      <td>LanguageHaveWorkedWith</td>\n",
       "      <td>Ada</td>\n",
       "      <td>677</td>\n",
       "    </tr>\n",
       "    <tr>\n",
       "      <th>3</th>\n",
       "      <td>LanguageHaveWorkedWith</td>\n",
       "      <td>Apex</td>\n",
       "      <td>579</td>\n",
       "    </tr>\n",
       "    <tr>\n",
       "      <th>4</th>\n",
       "      <td>LanguageHaveWorkedWith</td>\n",
       "      <td>Assembly</td>\n",
       "      <td>4753</td>\n",
       "    </tr>\n",
       "    <tr>\n",
       "      <th>...</th>\n",
       "      <td>...</td>\n",
       "      <td>...</td>\n",
       "      <td>...</td>\n",
       "    </tr>\n",
       "    <tr>\n",
       "      <th>232</th>\n",
       "      <td>ToolsTechHaveWorkedWith</td>\n",
       "      <td>liblittletest</td>\n",
       "      <td>37</td>\n",
       "    </tr>\n",
       "    <tr>\n",
       "      <th>233</th>\n",
       "      <td>ToolsTechHaveWorkedWith</td>\n",
       "      <td>npm</td>\n",
       "      <td>39609</td>\n",
       "    </tr>\n",
       "    <tr>\n",
       "      <th>234</th>\n",
       "      <td>ToolsTechHaveWorkedWith</td>\n",
       "      <td>pnpm</td>\n",
       "      <td>5036</td>\n",
       "    </tr>\n",
       "    <tr>\n",
       "      <th>235</th>\n",
       "      <td>ToolsTechHaveWorkedWith</td>\n",
       "      <td>snitch</td>\n",
       "      <td>55</td>\n",
       "    </tr>\n",
       "    <tr>\n",
       "      <th>236</th>\n",
       "      <td>ToolsTechHaveWorkedWith</td>\n",
       "      <td>tunit</td>\n",
       "      <td>69</td>\n",
       "    </tr>\n",
       "  </tbody>\n",
       "</table>\n",
       "<p>237 rows × 3 columns</p>\n",
       "</div>"
      ],
      "text/plain": [
       "                     level_0        level_1      0\n",
       "0     LanguageHaveWorkedWith                  2044\n",
       "1     LanguageHaveWorkedWith            APL    225\n",
       "2     LanguageHaveWorkedWith            Ada    677\n",
       "3     LanguageHaveWorkedWith           Apex    579\n",
       "4     LanguageHaveWorkedWith       Assembly   4753\n",
       "..                       ...            ...    ...\n",
       "232  ToolsTechHaveWorkedWith  liblittletest     37\n",
       "233  ToolsTechHaveWorkedWith            npm  39609\n",
       "234  ToolsTechHaveWorkedWith           pnpm   5036\n",
       "235  ToolsTechHaveWorkedWith         snitch     55\n",
       "236  ToolsTechHaveWorkedWith          tunit     69\n",
       "\n",
       "[237 rows x 3 columns]"
      ]
     },
     "execution_count": 15,
     "metadata": {},
     "output_type": "execute_result"
    }
   ],
   "source": [
    "skills_df.sum().reset_index()"
   ]
  },
  {
   "cell_type": "code",
   "execution_count": null,
   "id": "35162bcd",
   "metadata": {},
   "outputs": [],
   "source": [
    "\n"
   ]
  },
  {
   "cell_type": "code",
   "execution_count": null,
   "id": "52a8d016",
   "metadata": {},
   "outputs": [],
   "source": []
  }
 ],
 "metadata": {
  "kernelspec": {
   "display_name": "Python 3 (ipykernel)",
   "language": "python",
   "name": "python3"
  },
  "language_info": {
   "codemirror_mode": {
    "name": "ipython",
    "version": 3
   },
   "file_extension": ".py",
   "mimetype": "text/x-python",
   "name": "python",
   "nbconvert_exporter": "python",
   "pygments_lexer": "ipython3",
   "version": "3.9.12"
  }
 },
 "nbformat": 4,
 "nbformat_minor": 5
}
