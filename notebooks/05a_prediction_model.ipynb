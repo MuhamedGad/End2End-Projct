{
 "cells": [
  {
   "cell_type": "code",
   "execution_count": 1,
   "id": "dfeaed6d",
   "metadata": {},
   "outputs": [],
   "source": [
    "CLUSTERS_SKILLS = r'..\\data\\processed\\clusters_skills.yaml'\n",
    "MLFLOW_TRACKING_URI = '../models/mlruns'\n",
    "MLFLOW_EXPERIMENT_NAME = \"rf_job_predict\"\n",
    "EXPERIMENT_ID = '7998af4e6d8a4ab7b9365772bff3a01c'\n",
    "ARTIFACT_PATH = '../models/MODELS'"
   ]
  },
  {
   "cell_type": "code",
   "execution_count": 2,
   "id": "2047353d",
   "metadata": {},
   "outputs": [],
   "source": [
    "import mlflow\n",
    "import mlflow.sklearn\n",
    "import os\n",
    "import pickle\n",
    "import yaml\n",
    "import pandas as pd\n",
    "import numpy as np"
   ]
  },
  {
   "cell_type": "code",
   "execution_count": 3,
   "id": "d513d555",
   "metadata": {},
   "outputs": [],
   "source": [
    "mlflow.set_tracking_uri(MLFLOW_TRACKING_URI)\n"
   ]
  },
  {
   "cell_type": "code",
   "execution_count": 4,
   "id": "7b6951f0",
   "metadata": {},
   "outputs": [],
   "source": [
    "target_path = ARTIFACT_PATH + '/' + EXPERIMENT_ID + '/artifacts'"
   ]
  },
  {
   "cell_type": "code",
   "execution_count": 5,
   "id": "313784f8",
   "metadata": {},
   "outputs": [
    {
     "data": {
      "text/plain": [
       "'../models/MODELS/7998af4e6d8a4ab7b9365772bff3a01c/artifacts'"
      ]
     },
     "execution_count": 5,
     "metadata": {},
     "output_type": "execute_result"
    }
   ],
   "source": [
    "target_path"
   ]
  },
  {
   "cell_type": "code",
   "execution_count": 6,
   "id": "1930a863",
   "metadata": {},
   "outputs": [
    {
     "name": "stdout",
     "output_type": "stream",
     "text": [
      " Basic RandomForestClassifier with PCA\n"
     ]
    }
   ],
   "source": [
    "# Get a list of folders in the specified path\n",
    "folders = [entry.name for entry in os.scandir(target_path) if entry.is_dir()]\n",
    "\n",
    "# Print the list of folders\n",
    "print(folders[0])"
   ]
  },
  {
   "cell_type": "code",
   "execution_count": 7,
   "id": "9569488d",
   "metadata": {},
   "outputs": [
    {
     "data": {
      "text/plain": [
       "'../models/MODELS/7998af4e6d8a4ab7b9365772bff3a01c/artifacts/ Basic RandomForestClassifier with PCA/model.pkl'"
      ]
     },
     "execution_count": 7,
     "metadata": {},
     "output_type": "execute_result"
    }
   ],
   "source": [
    "target_path += '/' + folders[0]+ '/model.pkl'\n",
    "target_path"
   ]
  },
  {
   "cell_type": "code",
   "execution_count": 8,
   "id": "f5726e2b",
   "metadata": {},
   "outputs": [],
   "source": [
    "with open(target_path, 'rb') as file:\n",
    "    loaded_model = pickle.load(file)"
   ]
  },
  {
   "cell_type": "code",
   "execution_count": 9,
   "id": "0a5fb5fb",
   "metadata": {},
   "outputs": [
    {
     "data": {
      "text/plain": [
       "Pipeline(steps=[('preprocessor',\n",
       "                 ColumnTransformer(transformers=[('num', RobustScaler(),\n",
       "                                                  Index(['skills_group_0', 'skills_group_1', 'skills_group_10',\n",
       "       'skills_group_11', 'skills_group_12', 'skills_group_13',\n",
       "       'skills_group_14', 'skills_group_15', 'skills_group_16',\n",
       "       'skills_group_17', 'skills_group_18', 'skills_group_19',\n",
       "       'skills_group_2', 'skills_group_20', 'skills_group_21',\n",
       "       'skills_group_22', 'skills_group_23', 'skills_group_24',\n",
       "       'skills_group_3', 'skills_group_4', 'skills_group_5', 'skills_group_6',\n",
       "       'skills_group_7', 'skills_group_9'],\n",
       "      dtype='object'))])),\n",
       "                ('pca', PCA(n_components=0.99)),\n",
       "                ('classifier',\n",
       "                 RandomForestClassifier(n_jobs=-1, random_state=42,\n",
       "                                        verbose=1))])"
      ]
     },
     "execution_count": 9,
     "metadata": {},
     "output_type": "execute_result"
    }
   ],
   "source": [
    "loaded_model"
   ]
  },
  {
   "cell_type": "code",
   "execution_count": 10,
   "id": "2c4e81f6",
   "metadata": {},
   "outputs": [],
   "source": [
    "with open(CLUSTERS_SKILLS, 'r') as file :\n",
    "    clusters_skills = yaml.load(file, Loader=yaml.FullLoader)\n",
    "    "
   ]
  },
  {
   "cell_type": "code",
   "execution_count": 11,
   "id": "59239e5b",
   "metadata": {},
   "outputs": [],
   "source": [
    "# clusters_skills = pd.Series(clusters_skills)"
   ]
  },
  {
   "cell_type": "code",
   "execution_count": 12,
   "id": "d66c3bf9",
   "metadata": {},
   "outputs": [],
   "source": [
    "# clusters_skills = clusters_skills.reset_index()"
   ]
  },
  {
   "cell_type": "code",
   "execution_count": 13,
   "id": "33280cde",
   "metadata": {},
   "outputs": [],
   "source": [
    "# clusters_skills.columns = ['Cluster', 'Skills']"
   ]
  },
  {
   "cell_type": "code",
   "execution_count": 14,
   "id": "236c4bf9",
   "metadata": {},
   "outputs": [],
   "source": [
    "sample_skills =  ['Python', 'Pandas']\n"
   ]
  },
  {
   "cell_type": "code",
   "execution_count": 15,
   "id": "aa15d7c5",
   "metadata": {},
   "outputs": [],
   "source": [
    "test = pd.DataFrame(columns=clusters_skills.keys())"
   ]
  },
  {
   "cell_type": "code",
   "execution_count": 16,
   "id": "daad6d51",
   "metadata": {},
   "outputs": [],
   "source": [
    "test = test.drop('skills_group_8', axis=1)"
   ]
  },
  {
   "cell_type": "code",
   "execution_count": 17,
   "id": "34082f73",
   "metadata": {},
   "outputs": [],
   "source": [
    "test.loc[0] = 0"
   ]
  },
  {
   "cell_type": "code",
   "execution_count": 18,
   "id": "07511acf",
   "metadata": {},
   "outputs": [],
   "source": [
    "for cluster, skills in clusters_skills.items() :\n",
    "    for skill in skills :\n",
    "        if skill in sample_skills:\n",
    "            test[cluster] +=1"
   ]
  },
  {
   "cell_type": "code",
   "execution_count": 19,
   "id": "e06c3d46",
   "metadata": {},
   "outputs": [
    {
     "data": {
      "text/html": [
       "<div>\n",
       "<style scoped>\n",
       "    .dataframe tbody tr th:only-of-type {\n",
       "        vertical-align: middle;\n",
       "    }\n",
       "\n",
       "    .dataframe tbody tr th {\n",
       "        vertical-align: top;\n",
       "    }\n",
       "\n",
       "    .dataframe thead th {\n",
       "        text-align: right;\n",
       "    }\n",
       "</style>\n",
       "<table border=\"1\" class=\"dataframe\">\n",
       "  <thead>\n",
       "    <tr style=\"text-align: right;\">\n",
       "      <th></th>\n",
       "      <th>skills_group_0</th>\n",
       "      <th>skills_group_1</th>\n",
       "      <th>skills_group_10</th>\n",
       "      <th>skills_group_11</th>\n",
       "      <th>skills_group_12</th>\n",
       "      <th>skills_group_13</th>\n",
       "      <th>skills_group_14</th>\n",
       "      <th>skills_group_15</th>\n",
       "      <th>skills_group_16</th>\n",
       "      <th>skills_group_17</th>\n",
       "      <th>...</th>\n",
       "      <th>skills_group_21</th>\n",
       "      <th>skills_group_22</th>\n",
       "      <th>skills_group_23</th>\n",
       "      <th>skills_group_24</th>\n",
       "      <th>skills_group_3</th>\n",
       "      <th>skills_group_4</th>\n",
       "      <th>skills_group_5</th>\n",
       "      <th>skills_group_6</th>\n",
       "      <th>skills_group_7</th>\n",
       "      <th>skills_group_9</th>\n",
       "    </tr>\n",
       "  </thead>\n",
       "  <tbody>\n",
       "    <tr>\n",
       "      <th>0</th>\n",
       "      <td>0</td>\n",
       "      <td>0</td>\n",
       "      <td>0</td>\n",
       "      <td>0</td>\n",
       "      <td>0</td>\n",
       "      <td>0</td>\n",
       "      <td>0</td>\n",
       "      <td>0</td>\n",
       "      <td>0</td>\n",
       "      <td>0</td>\n",
       "      <td>...</td>\n",
       "      <td>0</td>\n",
       "      <td>0</td>\n",
       "      <td>0</td>\n",
       "      <td>0</td>\n",
       "      <td>0</td>\n",
       "      <td>2</td>\n",
       "      <td>0</td>\n",
       "      <td>0</td>\n",
       "      <td>0</td>\n",
       "      <td>0</td>\n",
       "    </tr>\n",
       "  </tbody>\n",
       "</table>\n",
       "<p>1 rows × 24 columns</p>\n",
       "</div>"
      ],
      "text/plain": [
       "   skills_group_0  skills_group_1  skills_group_10  skills_group_11  \\\n",
       "0               0               0                0                0   \n",
       "\n",
       "   skills_group_12  skills_group_13  skills_group_14  skills_group_15  \\\n",
       "0                0                0                0                0   \n",
       "\n",
       "   skills_group_16  skills_group_17  ...  skills_group_21  skills_group_22  \\\n",
       "0                0                0  ...                0                0   \n",
       "\n",
       "   skills_group_23  skills_group_24  skills_group_3  skills_group_4  \\\n",
       "0                0                0               0               2   \n",
       "\n",
       "   skills_group_5  skills_group_6  skills_group_7  skills_group_9  \n",
       "0               0               0               0               0  \n",
       "\n",
       "[1 rows x 24 columns]"
      ]
     },
     "execution_count": 19,
     "metadata": {},
     "output_type": "execute_result"
    }
   ],
   "source": [
    "test"
   ]
  },
  {
   "cell_type": "code",
   "execution_count": 20,
   "id": "8f6b568f",
   "metadata": {},
   "outputs": [
    {
     "name": "stderr",
     "output_type": "stream",
     "text": [
      "[Parallel(n_jobs=16)]: Using backend ThreadingBackend with 16 concurrent workers.\n",
      "[Parallel(n_jobs=16)]: Done  18 tasks      | elapsed:    0.0s\n",
      "[Parallel(n_jobs=16)]: Done 100 out of 100 | elapsed:    0.0s finished\n"
     ]
    }
   ],
   "source": [
    "predictions = loaded_model.predict_proba(test)"
   ]
  },
  {
   "cell_type": "code",
   "execution_count": 21,
   "id": "5ccf21e1",
   "metadata": {},
   "outputs": [
    {
     "data": {
      "text/plain": [
       "['Academic researcher',\n",
       " 'Cloud infrastructure engineer',\n",
       " 'Data or business analyst',\n",
       " 'Data scientist or machine learning specialist',\n",
       " 'Database administrator',\n",
       " 'DevOps specialist',\n",
       " 'Developer, QA or test',\n",
       " 'Developer, back-end',\n",
       " 'Developer, desktop or enterprise applications',\n",
       " 'Developer, embedded applications or devices',\n",
       " 'Developer, front-end',\n",
       " 'Developer, full-stack',\n",
       " 'Developer, game or graphics',\n",
       " 'Developer, mobile',\n",
       " 'Engineer, data',\n",
       " 'Hardware Engineer',\n",
       " 'Scientist',\n",
       " 'Security professional',\n",
       " 'System administrator']"
      ]
     },
     "execution_count": 21,
     "metadata": {},
     "output_type": "execute_result"
    }
   ],
   "source": [
    "class_names = loaded_model.classes_.tolist()\n",
    "class_names"
   ]
  },
  {
   "cell_type": "code",
   "execution_count": 22,
   "id": "d3f96984",
   "metadata": {},
   "outputs": [],
   "source": [
    "proba_values = predictions.flatten().tolist()\n"
   ]
  },
  {
   "cell_type": "code",
   "execution_count": 23,
   "id": "b4b110f0",
   "metadata": {},
   "outputs": [],
   "source": [
    "predicted_class_index = np.argmax(predictions)\n"
   ]
  },
  {
   "cell_type": "code",
   "execution_count": 24,
   "id": "cef33288",
   "metadata": {},
   "outputs": [
    {
     "data": {
      "text/plain": [
       "'Hardware Engineer'"
      ]
     },
     "execution_count": 24,
     "metadata": {},
     "output_type": "execute_result"
    }
   ],
   "source": [
    "predicted_class_name = class_names[predicted_class_index]\n",
    "predicted_class_name"
   ]
  },
  {
   "cell_type": "code",
   "execution_count": 25,
   "id": "c237926a",
   "metadata": {},
   "outputs": [],
   "source": [
    "sorted_class_names = [class_name for _, class_name in sorted(zip(proba_values, class_names), reverse=True)]\n"
   ]
  },
  {
   "cell_type": "code",
   "execution_count": 29,
   "id": "69cc7636",
   "metadata": {},
   "outputs": [
    {
     "name": "stdout",
     "output_type": "stream",
     "text": [
      "Hardware Engineer: 0.2914\n",
      "Academic researcher: 0.2829\n",
      "Scientist: 0.2123\n",
      "Data or business analyst: 0.0975\n",
      "Developer, QA or test: 0.0577\n",
      "Engineer, data: 0.0308\n",
      "Data scientist or machine learning specialist: 0.0147\n",
      "Developer, full-stack: 0.0127\n",
      "System administrator: 0.0000\n",
      "Security professional: 0.0000\n",
      "Developer, mobile: 0.0000\n",
      "Developer, game or graphics: 0.0000\n",
      "Developer, front-end: 0.0000\n",
      "Developer, embedded applications or devices: 0.0000\n",
      "Developer, desktop or enterprise applications: 0.0000\n",
      "Developer, back-end: 0.0000\n",
      "DevOps specialist: 0.0000\n",
      "Database administrator: 0.0000\n",
      "Cloud infrastructure engineer: 0.0000\n"
     ]
    }
   ],
   "source": [
    "for class_name in sorted_class_names:\n",
    "    proba = predictions[0, class_names.index(class_name)]  # Find the probability for the sorted class\n",
    "    print(f\"{class_name}: {proba:.4f}\")"
   ]
  },
  {
   "cell_type": "code",
   "execution_count": null,
   "id": "e7b31c52",
   "metadata": {},
   "outputs": [],
   "source": []
  }
 ],
 "metadata": {
  "kernelspec": {
   "display_name": "Python 3 (ipykernel)",
   "language": "python",
   "name": "python3"
  },
  "language_info": {
   "codemirror_mode": {
    "name": "ipython",
    "version": 3
   },
   "file_extension": ".py",
   "mimetype": "text/x-python",
   "name": "python",
   "nbconvert_exporter": "python",
   "pygments_lexer": "ipython3",
   "version": "3.9.12"
  }
 },
 "nbformat": 4,
 "nbformat_minor": 5
}
