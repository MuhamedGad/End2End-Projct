{
 "cells": [
  {
   "cell_type": "code",
   "execution_count": 1,
   "id": "12492e42",
   "metadata": {},
   "outputs": [],
   "source": [
    "# important paths\n",
    "DATA_PATH = r\"..\\data\\processed\\processed_1.pkl\"\n",
    "EXPORT_PATH = r\"..\\data\\processed\\processed_2.pkl\""
   ]
  },
  {
   "cell_type": "code",
   "execution_count": 2,
   "id": "650782c4",
   "metadata": {},
   "outputs": [],
   "source": [
    "TECH_COLS = ['LanguageHaveWorkedWith', 'DatabaseHaveWorkedWith', \n",
    "             'PlatformHaveWorkedWith', 'WebframeHaveWorkedWith', \n",
    "             'MiscTechHaveWorkedWith', 'ToolsTechHaveWorkedWith']\n",
    "\n",
    "TECH_NEXT_COLS = ['LanguageWantToWorkWith', 'DatabaseWantToWorkWith', \n",
    "                  'PlatformWantToWorkWith', 'WebframeWantToWorkWith', \n",
    "                  'MiscTechWantToWorkWith', 'ToolsTechWantToWorkWith']\n",
    "\n",
    "ROLE_COLS = ['DevType']"
   ]
  },
  {
   "cell_type": "code",
   "execution_count": 3,
   "id": "be3b6288",
   "metadata": {},
   "outputs": [],
   "source": [
    "# used libraries\n",
    "import pandas as pd\n",
    "import numpy as np\n",
    "import matplotlib.pyplot as plt\n",
    "import plotly.express as px\n",
    "import plotly.graph_objects as go\n",
    "from sklearn.preprocessing import MultiLabelBinarizer\n",
    "from sklearn.manifold import TSNE\n",
    "from sklearn.preprocessing import StandardScaler\n",
    "import warnings\n"
   ]
  },
  {
   "cell_type": "code",
   "execution_count": 4,
   "id": "49dacbd5",
   "metadata": {},
   "outputs": [],
   "source": [
    "warnings.filterwarnings(\"ignore\")\n"
   ]
  },
  {
   "cell_type": "markdown",
   "id": "cf6162b9",
   "metadata": {},
   "source": [
    "### Reading & One Hot Encdoing"
   ]
  },
  {
   "cell_type": "code",
   "execution_count": 5,
   "id": "7cefc8fb",
   "metadata": {},
   "outputs": [],
   "source": [
    "processed_data = pd.read_pickle(DATA_PATH)\n",
    "df = processed_data.copy()"
   ]
  },
  {
   "cell_type": "code",
   "execution_count": 6,
   "id": "a4c60064",
   "metadata": {},
   "outputs": [],
   "source": [
    "# 1 hot encoding Tech_Cols\n",
    "encoded_dfs = {}\n",
    "for col in TECH_COLS :\n",
    "    mlb = MultiLabelBinarizer()\n",
    "    one_hot_encoded = pd.DataFrame(mlb.fit_transform(df[col]), columns=mlb.classes_, index=df.index)\n",
    "    encoded_dfs[col] = one_hot_encoded\n",
    "df = pd.concat( encoded_dfs, axis=1)\n"
   ]
  },
  {
   "cell_type": "code",
   "execution_count": 7,
   "id": "1f63554e",
   "metadata": {},
   "outputs": [],
   "source": [
    "# 1 hot encoding DevType columns & making it doubled level\n",
    "role_col = processed_data['DevType']\n",
    "one_hot_single_col = pd.get_dummies(role_col)\n",
    "multi_level_columns = pd.MultiIndex.from_product([['DevType'], one_hot_single_col.columns])\n",
    "one_hot_single_col.columns = multi_level_columns\n",
    "df = pd.concat([df, one_hot_single_col], axis=1)\n"
   ]
  },
  {
   "cell_type": "markdown",
   "id": "5f495178",
   "metadata": {},
   "source": [
    "### Apply T-SNE "
   ]
  },
  {
   "cell_type": "code",
   "execution_count": 8,
   "id": "24a40bff",
   "metadata": {},
   "outputs": [],
   "source": [
    "skills_ohe = df.drop('DevType', axis=1).copy()\n",
    "std_skills = StandardScaler().fit_transform(skills_ohe)"
   ]
  },
  {
   "cell_type": "code",
   "execution_count": null,
   "id": "4108c67b",
   "metadata": {},
   "outputs": [],
   "source": [
    "tsne_projection = TSNE(n_components=2, \n",
    "                       perplexity=3,\n",
    "                       learning_rate=0.01,\n",
    "                       init='pca', \n",
    "                       n_jobs=-1, \n",
    "                       n_iter=10**10,\n",
    "                       random_state=0).fit_transform(std_skills.T)"
   ]
  },
  {
   "cell_type": "code",
   "execution_count": null,
   "id": "75da206f",
   "metadata": {},
   "outputs": [],
   "source": [
    "tsne_projection = pd.DataFrame(tsne_projection, index=skills_ohe.columns)"
   ]
  },
  {
   "cell_type": "code",
   "execution_count": null,
   "id": "8aa1c0ad",
   "metadata": {},
   "outputs": [],
   "source": [
    "fig = px.scatter(x=tsne_projection[0], y=tsne_projection[1], text=tsne_projection.droplevel(0).index)\n",
    "fig.update_traces(textposition='top center')\n",
    "fig.update_layout(height=800, width=800, title_text='TNSE')\n",
    "fig.show()"
   ]
  },
  {
   "cell_type": "code",
   "execution_count": null,
   "id": "386a9208",
   "metadata": {},
   "outputs": [],
   "source": []
  }
 ],
 "metadata": {
  "kernelspec": {
   "display_name": "Python 3 (ipykernel)",
   "language": "python",
   "name": "python3"
  },
  "language_info": {
   "codemirror_mode": {
    "name": "ipython",
    "version": 3
   },
   "file_extension": ".py",
   "mimetype": "text/x-python",
   "name": "python",
   "nbconvert_exporter": "python",
   "pygments_lexer": "ipython3",
   "version": "3.9.12"
  }
 },
 "nbformat": 4,
 "nbformat_minor": 5
}
