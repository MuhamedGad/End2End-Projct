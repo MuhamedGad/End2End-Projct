{
 "cells": [
  {
   "cell_type": "code",
   "execution_count": 1,
   "id": "291ae49e",
   "metadata": {},
   "outputs": [],
   "source": [
    "# important paths\n",
    "DATA_PATH = r\"..\\data\\processed\\processed_1.pkl\"\n",
    "FEATURES_PATH = r\"..\\data\\processed\\cleaned_df.pkl\"\n"
   ]
  },
  {
   "cell_type": "code",
   "execution_count": 2,
   "id": "5043d6c6",
   "metadata": {},
   "outputs": [],
   "source": [
    "TECH_COLS = ['LanguageHaveWorkedWith', 'DatabaseHaveWorkedWith', \n",
    "             'PlatformHaveWorkedWith', 'WebframeHaveWorkedWith', \n",
    "             'MiscTechHaveWorkedWith', 'ToolsTechHaveWorkedWith']"
   ]
  },
  {
   "cell_type": "code",
   "execution_count": 3,
   "id": "55ec5392",
   "metadata": {},
   "outputs": [],
   "source": [
    "# used libraries\n",
    "import pandas as pd\n",
    "import mlflow\n",
    "import os\n",
    "\n",
    "import numpy as np\n",
    "import matplotlib.pyplot as plt\n",
    "import plotly.express as px\n",
    "import plotly.graph_objects as go\n",
    "from sklearn.preprocessing import MultiLabelBinarizer\n",
    "from imblearn.over_sampling import SMOTE\n",
    "from sklearn.model_selection import train_test_split\n",
    "from imblearn.over_sampling import RandomOverSampler\n",
    "from sklearn.preprocessing import StandardScaler\n",
    "from sklearn.linear_model import LogisticRegression\n",
    "from sklearn.metrics import f1_score, precision_score, recall_score, confusion_matrix\n",
    "from sklearn.pipeline import make_pipeline\n",
    "from sklearn.compose import ColumnTransformer\n",
    "from sklearn.ensemble import RandomForestClassifier\n",
    "import warnings\n"
   ]
  },
  {
   "cell_type": "code",
   "execution_count": 4,
   "id": "0f343832",
   "metadata": {},
   "outputs": [],
   "source": [
    "warnings.filterwarnings(\"ignore\")"
   ]
  },
  {
   "cell_type": "code",
   "execution_count": 5,
   "id": "3b9817d1",
   "metadata": {},
   "outputs": [],
   "source": [
    "# reading data\n",
    "processed_df = pd.read_pickle(DATA_PATH)\n",
    "combined_df = pd.read_pickle(FEATURES_PATH)\n",
    "df = combined_df.copy()"
   ]
  },
  {
   "cell_type": "markdown",
   "id": "6b146912",
   "metadata": {},
   "source": [
    "### Balance Role Classes"
   ]
  },
  {
   "cell_type": "markdown",
   "id": "2a145ec7",
   "metadata": {},
   "source": [
    "#### Before Balancing"
   ]
  },
  {
   "cell_type": "code",
   "execution_count": 6,
   "id": "53ce2fd6",
   "metadata": {},
   "outputs": [
    {
     "data": {
      "text/plain": [
       "Academic researcher                               1283\n",
       "Cloud infrastructure engineer                      931\n",
       "Data or business analyst                           813\n",
       "Data scientist or machine learning specialist     1474\n",
       "Database administrator                             245\n",
       "DevOps specialist                                 1217\n",
       "Developer, QA or test                              562\n",
       "Developer, back-end                              13045\n",
       "Developer, desktop or enterprise applications     3745\n",
       "Developer, front-end                              4915\n",
       "Developer, full-stack                            23303\n",
       "Developer, game or graphics                        824\n",
       "Developer, mobile                                 2512\n",
       "Engineer, data                                    1170\n",
       "Scientist                                          331\n",
       "Security professional                              416\n",
       "System administrator                               689\n",
       "dtype: int64"
      ]
     },
     "execution_count": 6,
     "metadata": {},
     "output_type": "execute_result"
    }
   ],
   "source": [
    "roles_df = combined_df['DevType'].copy()\n",
    "roles_df.sum(axis=0)"
   ]
  },
  {
   "cell_type": "code",
   "execution_count": 7,
   "id": "d01ee72d",
   "metadata": {},
   "outputs": [],
   "source": [
    "X=df['Clusters']\n",
    "y = df['DevType'].idxmax(axis=1)"
   ]
  },
  {
   "cell_type": "code",
   "execution_count": 8,
   "id": "1f772125",
   "metadata": {},
   "outputs": [],
   "source": [
    "X_train, X_test, y_train, y_test = train_test_split(X, y, test_size=0.2,stratify=y,  random_state=42)"
   ]
  },
  {
   "cell_type": "code",
   "execution_count": 9,
   "id": "59f15b47",
   "metadata": {},
   "outputs": [],
   "source": [
    "numeric_features = X_train.columns\n"
   ]
  },
  {
   "cell_type": "code",
   "execution_count": 10,
   "id": "f7c4bf57",
   "metadata": {},
   "outputs": [],
   "source": [
    "preprocessor = ColumnTransformer(\n",
    "                    transformers=[\n",
    "                        ('numeric', StandardScaler(), numeric_features),\n",
    "                    ])"
   ]
  },
  {
   "cell_type": "code",
   "execution_count": 11,
   "id": "8dbf706a",
   "metadata": {},
   "outputs": [
    {
     "data": {
      "text/plain": [
       "Pipeline(steps=[('columntransformer',\n",
       "                 ColumnTransformer(transformers=[('numeric', StandardScaler(),\n",
       "                                                  Index(['skills_group_0', 'skills_group_1', 'skills_group_10',\n",
       "       'skills_group_11', 'skills_group_12', 'skills_group_13',\n",
       "       'skills_group_14', 'skills_group_15', 'skills_group_16',\n",
       "       'skills_group_17', 'skills_group_18', 'skills_group_19',\n",
       "       'skills_group_2', 'skills_group_20', 'skills_group_21',\n",
       "       'skills_group_22', 'skills_group_23', 'skills_group_24',\n",
       "       'skills_group_3', 'skills_group_4', 'skills_group_5', 'skills_group_6',\n",
       "       'skills_group_7', 'skills_group_9'],\n",
       "      dtype='object'))])),\n",
       "                ('randomforestclassifier', RandomForestClassifier())])"
      ]
     },
     "execution_count": 11,
     "metadata": {},
     "output_type": "execute_result"
    }
   ],
   "source": [
    "clf = make_pipeline(preprocessor, RandomForestClassifier())\n",
    "clf.fit(X_train, y_train)"
   ]
  },
  {
   "cell_type": "code",
   "execution_count": 12,
   "id": "025d2559",
   "metadata": {},
   "outputs": [],
   "source": [
    "y_pred = clf.predict(X_test)\n"
   ]
  },
  {
   "cell_type": "code",
   "execution_count": 13,
   "id": "3b644f4a",
   "metadata": {},
   "outputs": [
    {
     "data": {
      "text/plain": [
       "0.4758842275485163"
      ]
     },
     "execution_count": 13,
     "metadata": {},
     "output_type": "execute_result"
    }
   ],
   "source": [
    "# f1 = f1_score(y_test, y_pred, average='weighted')\n",
    "precision = precision_score(y_test, y_pred, average='weighted')\n",
    "precision"
   ]
  },
  {
   "cell_type": "code",
   "execution_count": 14,
   "id": "e733f5a7",
   "metadata": {},
   "outputs": [
    {
     "data": {
      "text/plain": [
       "0.5076246157555301"
      ]
     },
     "execution_count": 14,
     "metadata": {},
     "output_type": "execute_result"
    }
   ],
   "source": [
    "recall = recall_score(y_test, y_pred, average='weighted')\n",
    "recall"
   ]
  },
  {
   "cell_type": "code",
   "execution_count": 15,
   "id": "04ce2f07",
   "metadata": {},
   "outputs": [
    {
     "data": {
      "text/plain": [
       "0.4814628392358536"
      ]
     },
     "execution_count": 15,
     "metadata": {},
     "output_type": "execute_result"
    }
   ],
   "source": [
    "f1 = f1_score(y_test, y_pred, average='weighted')\n",
    "f1"
   ]
  },
  {
   "cell_type": "markdown",
   "id": "161d6f28",
   "metadata": {},
   "source": [
    "#### After Balancing"
   ]
  },
  {
   "cell_type": "code",
   "execution_count": 16,
   "id": "7540bf56",
   "metadata": {},
   "outputs": [],
   "source": [
    "# Resample roles\n",
    "samples_per_class = 1400\n",
    "resampled_roles = []"
   ]
  },
  {
   "cell_type": "code",
   "execution_count": 17,
   "id": "c890784c",
   "metadata": {},
   "outputs": [],
   "source": [
    "for role_col in roles_df.columns:\n",
    "    sub_df = roles_df.loc[roles_df[role_col] == 1].copy()\n",
    "\n",
    "    if len(sub_df) / samples_per_class < 1 :\n",
    "        # Upsample\n",
    "        t = len(sub_df) *   (len(sub_df) / samples_per_class) \n",
    "        amo = t + samples_per_class\n",
    "        sub_df = sub_df.sample(int(amo), replace=True, random_state=0)\n",
    "    else:\n",
    "        # Downsample\n",
    "        t = (len(sub_df) / samples_per_class) \n",
    "        if t > 2 :\n",
    "            t/= 2\n",
    "        amo = samples_per_class * t\n",
    "\n",
    "        sub_df = sub_df.sample(int(amo), random_state=0)\n",
    "\n",
    "    resampled_roles.append(sub_df)"
   ]
  },
  {
   "cell_type": "code",
   "execution_count": 18,
   "id": "ae420e2b",
   "metadata": {},
   "outputs": [],
   "source": [
    "# Construct dfs\n",
    "roles_df = pd.concat(resampled_roles)\n",
    "df = df.loc[roles_df.index].copy()"
   ]
  },
  {
   "cell_type": "code",
   "execution_count": 19,
   "id": "b82562f5",
   "metadata": {},
   "outputs": [
    {
     "data": {
      "text/plain": [
       "Academic researcher                               2575\n",
       "Cloud infrastructure engineer                     2019\n",
       "Data or business analyst                          1872\n",
       "Data scientist or machine learning specialist     1474\n",
       "Database administrator                            1442\n",
       "DevOps specialist                                 2457\n",
       "Developer, QA or test                             1625\n",
       "Developer, back-end                               6522\n",
       "Developer, desktop or enterprise applications     1872\n",
       "Developer, front-end                              2457\n",
       "Developer, full-stack                            11651\n",
       "Developer, game or graphics                       1884\n",
       "Developer, mobile                                 2512\n",
       "Engineer, data                                    2377\n",
       "Scientist                                         1478\n",
       "Security professional                             1523\n",
       "System administrator                              1739\n",
       "dtype: int64"
      ]
     },
     "execution_count": 19,
     "metadata": {},
     "output_type": "execute_result"
    }
   ],
   "source": [
    "roles_df.sum(axis=0)"
   ]
  },
  {
   "cell_type": "code",
   "execution_count": 20,
   "id": "90851274",
   "metadata": {},
   "outputs": [],
   "source": [
    "X=df['Clusters']\n",
    "y = df['DevType'].idxmax(axis=1)"
   ]
  },
  {
   "cell_type": "code",
   "execution_count": 21,
   "id": "b6368a73",
   "metadata": {},
   "outputs": [],
   "source": [
    "X_train, X_test, y_train, y_test = train_test_split(X, y, test_size=0.2,stratify=y,  random_state=42)"
   ]
  },
  {
   "cell_type": "code",
   "execution_count": 22,
   "id": "33d33216",
   "metadata": {},
   "outputs": [
    {
     "data": {
      "text/plain": [
       "Pipeline(steps=[('columntransformer',\n",
       "                 ColumnTransformer(transformers=[('numeric', StandardScaler(),\n",
       "                                                  Index(['skills_group_0', 'skills_group_1', 'skills_group_10',\n",
       "       'skills_group_11', 'skills_group_12', 'skills_group_13',\n",
       "       'skills_group_14', 'skills_group_15', 'skills_group_16',\n",
       "       'skills_group_17', 'skills_group_18', 'skills_group_19',\n",
       "       'skills_group_2', 'skills_group_20', 'skills_group_21',\n",
       "       'skills_group_22', 'skills_group_23', 'skills_group_24',\n",
       "       'skills_group_3', 'skills_group_4', 'skills_group_5', 'skills_group_6',\n",
       "       'skills_group_7', 'skills_group_9'],\n",
       "      dtype='object'))])),\n",
       "                ('randomforestclassifier', RandomForestClassifier())])"
      ]
     },
     "execution_count": 22,
     "metadata": {},
     "output_type": "execute_result"
    }
   ],
   "source": [
    "clf = make_pipeline(preprocessor, RandomForestClassifier())\n",
    "clf.fit(X_train, y_train)"
   ]
  },
  {
   "cell_type": "code",
   "execution_count": 23,
   "id": "6b074d9d",
   "metadata": {},
   "outputs": [],
   "source": [
    "y_pred = clf.predict(X_test)\n"
   ]
  },
  {
   "cell_type": "code",
   "execution_count": 24,
   "id": "6738002a",
   "metadata": {},
   "outputs": [
    {
     "data": {
      "text/plain": [
       "0.6889262578024073"
      ]
     },
     "execution_count": 24,
     "metadata": {},
     "output_type": "execute_result"
    }
   ],
   "source": [
    "precision = precision_score(y_test, y_pred, average='weighted')\n",
    "precision"
   ]
  },
  {
   "cell_type": "code",
   "execution_count": 25,
   "id": "97a50767",
   "metadata": {},
   "outputs": [
    {
     "data": {
      "text/plain": [
       "0.6960825610783488"
      ]
     },
     "execution_count": 25,
     "metadata": {},
     "output_type": "execute_result"
    }
   ],
   "source": [
    "recall = recall_score(y_test, y_pred, average='weighted')\n",
    "recall"
   ]
  },
  {
   "cell_type": "code",
   "execution_count": 26,
   "id": "f9ac7e0d",
   "metadata": {},
   "outputs": [
    {
     "data": {
      "text/plain": [
       "0.6856964530395366"
      ]
     },
     "execution_count": 26,
     "metadata": {},
     "output_type": "execute_result"
    }
   ],
   "source": [
    "f1 = f1_score(y_test, y_pred, average='weighted')\n",
    "f1"
   ]
  },
  {
   "cell_type": "markdown",
   "id": "6c893a5d",
   "metadata": {},
   "source": [
    "### Baseline Model\n",
    "#### Intializing mlflow and saving our base model"
   ]
  },
  {
   "cell_type": "code",
   "execution_count": 27,
   "id": "a6a3e829",
   "metadata": {},
   "outputs": [],
   "source": [
    "# where to create the mlruns folder\n",
    "MLFLOW_TRACKING_URI = '../models/mlruns'\n",
    "mlflow.set_tracking_uri(MLFLOW_TRACKING_URI)\n"
   ]
  },
  {
   "cell_type": "code",
   "execution_count": 35,
   "id": "a476069a",
   "metadata": {},
   "outputs": [],
   "source": [
    "experiment_name = \"Baseline Model\"\n",
    "artifact_location = r\"..\\models\\Models\"\n",
    "experiment = mlflow.create_experiment(experiment_name, artifact_location)\n",
    "# experiment = mlflow.get_experiment_by_name(experiment_name)"
   ]
  },
  {
   "cell_type": "code",
   "execution_count": 30,
   "id": "6a3c0d24",
   "metadata": {},
   "outputs": [],
   "source": [
    "# Set MLFLOW_EXPERIMENT_LOCATION to the desired artifact location\n",
    "os.environ[\"MLFLOW_EXPERIMENT_LOCATION\"] = artifact_location"
   ]
  },
  {
   "cell_type": "code",
   "execution_count": 36,
   "id": "3ed642f0",
   "metadata": {},
   "outputs": [],
   "source": [
    "with mlflow.start_run(experiment_id=experiment.experiment_id):\n",
    "    # Log parameters\n",
    "    mlflow.log_param(\"param\", 'No parameters specified')\n",
    "\n",
    "    # Log metrics\n",
    "    mlflow.log_metric(\"f1_score\", f1)\n",
    "    mlflow.log_metric(\"recall\", recall)\n",
    "    mlflow.log_metric(\"precision\", precision)\n",
    "    mlflow.sklearn.log_model(clf, \"RandomForestClassifier\")"
   ]
  },
  {
   "cell_type": "code",
   "execution_count": null,
   "id": "e97f2685",
   "metadata": {},
   "outputs": [],
   "source": []
  }
 ],
 "metadata": {
  "kernelspec": {
   "display_name": "Python 3 (ipykernel)",
   "language": "python",
   "name": "python3"
  },
  "language_info": {
   "codemirror_mode": {
    "name": "ipython",
    "version": 3
   },
   "file_extension": ".py",
   "mimetype": "text/x-python",
   "name": "python",
   "nbconvert_exporter": "python",
   "pygments_lexer": "ipython3",
   "version": "3.9.12"
  }
 },
 "nbformat": 4,
 "nbformat_minor": 5
}
