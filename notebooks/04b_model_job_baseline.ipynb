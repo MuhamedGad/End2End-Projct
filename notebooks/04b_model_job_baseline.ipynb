{
 "cells": [
  {
   "cell_type": "code",
   "execution_count": 1,
   "id": "066d56e5",
   "metadata": {},
   "outputs": [],
   "source": [
    "# important paths\n",
    "DATA_PATH = r\"..\\data\\processed\\processed_1.pkl\"\n",
    "FEATURES_PATH = r\"..\\data\\processed\\cleaned_df.pkl\"\n"
   ]
  },
  {
   "cell_type": "code",
   "execution_count": 2,
   "id": "25343103",
   "metadata": {},
   "outputs": [],
   "source": [
    "TECH_COLS = ['LanguageHaveWorkedWith', 'DatabaseHaveWorkedWith', \n",
    "             'PlatformHaveWorkedWith', 'WebframeHaveWorkedWith', \n",
    "             'MiscTechHaveWorkedWith', 'ToolsTechHaveWorkedWith']"
   ]
  },
  {
   "cell_type": "code",
   "execution_count": 3,
   "id": "0434b18e",
   "metadata": {},
   "outputs": [],
   "source": [
    "# used libraries\n",
    "import pandas as pd\n",
    "import numpy as np\n",
    "import matplotlib.pyplot as plt\n",
    "import plotly.express as px\n",
    "import plotly.graph_objects as go\n",
    "from sklearn.preprocessing import MultiLabelBinarizer\n",
    "from imblearn.over_sampling import SMOTE\n",
    "from sklearn.model_selection import train_test_split\n",
    "from imblearn.over_sampling import RandomOverSampler\n",
    "import warnings\n"
   ]
  },
  {
   "cell_type": "code",
   "execution_count": 4,
   "id": "2f4812ba",
   "metadata": {},
   "outputs": [],
   "source": [
    "warnings.filterwarnings(\"ignore\")"
   ]
  },
  {
   "cell_type": "code",
   "execution_count": 5,
   "id": "90e6d0b7",
   "metadata": {},
   "outputs": [],
   "source": [
    "# reading data\n",
    "processed_df = pd.read_pickle(DATA_PATH)\n",
    "combined_df = pd.read_pickle(FEATURES_PATH)\n",
    "df = combined_df.copy()"
   ]
  },
  {
   "cell_type": "code",
   "execution_count": 6,
   "id": "73aed2c8",
   "metadata": {},
   "outputs": [],
   "source": [
    "def laterFunction () :\n",
    "    pass\n"
   ]
  },
  {
   "cell_type": "markdown",
   "id": "79e2adc4",
   "metadata": {},
   "source": [
    "### Balance Role Classes"
   ]
  },
  {
   "cell_type": "code",
   "execution_count": 7,
   "id": "3335ae1c",
   "metadata": {},
   "outputs": [
    {
     "data": {
      "text/plain": [
       "Academic researcher                               1283\n",
       "Blockchain                                         294\n",
       "Cloud infrastructure engineer                      931\n",
       "Data or business analyst                           813\n",
       "Data scientist or machine learning specialist     1474\n",
       "Database administrator                             245\n",
       "DevOps specialist                                 1217\n",
       "Developer Advocate                                 192\n",
       "Developer Experience                               303\n",
       "Developer, QA or test                              562\n",
       "Developer, back-end                              13045\n",
       "Developer, desktop or enterprise applications     3745\n",
       "Developer, embedded applications or devices       1780\n",
       "Developer, front-end                              4915\n",
       "Developer, full-stack                            23303\n",
       "Developer, game or graphics                        824\n",
       "Developer, mobile                                 2512\n",
       "Engineer, data                                    1170\n",
       "Hardware Engineer                                  278\n",
       "Research & Development role                       1245\n",
       "Scientist                                          331\n",
       "Security professional                              416\n",
       "System administrator                               689\n",
       "dtype: int64"
      ]
     },
     "execution_count": 7,
     "metadata": {},
     "output_type": "execute_result"
    }
   ],
   "source": [
    "roles_df = combined_df['DevType'].copy()\n",
    "roles_df.sum(axis=0)"
   ]
  },
  {
   "cell_type": "code",
   "execution_count": 8,
   "id": "2a03458d",
   "metadata": {},
   "outputs": [
    {
     "data": {
      "text/plain": [
       "skills_group_0      13017\n",
       "skills_group_1       8403\n",
       "skills_group_10     20792\n",
       "skills_group_11     12352\n",
       "skills_group_12      3364\n",
       "skills_group_13      4984\n",
       "skills_group_14      8915\n",
       "skills_group_15     16944\n",
       "skills_group_16      6100\n",
       "skills_group_17    183995\n",
       "skills_group_18     31274\n",
       "skills_group_19     60618\n",
       "skills_group_2     143555\n",
       "skills_group_20      1902\n",
       "skills_group_21     40646\n",
       "skills_group_22      1378\n",
       "skills_group_23      1767\n",
       "skills_group_24     28344\n",
       "skills_group_3     157348\n",
       "skills_group_4     124210\n",
       "skills_group_5     241873\n",
       "skills_group_6     118073\n",
       "skills_group_7      75503\n",
       "skills_group_9       5591\n",
       "dtype: int64"
      ]
     },
     "execution_count": 8,
     "metadata": {},
     "output_type": "execute_result"
    }
   ],
   "source": [
    "df['Clusters'].sum(axis=0)"
   ]
  },
  {
   "cell_type": "code",
   "execution_count": 9,
   "id": "73b8c9dd",
   "metadata": {},
   "outputs": [],
   "source": [
    "X=df['Clusters']\n",
    "y = df['DevType'].idxmax(axis=1)"
   ]
  },
  {
   "cell_type": "code",
   "execution_count": 10,
   "id": "59588c7f",
   "metadata": {},
   "outputs": [],
   "source": [
    "X_train, X_test, y_train, y_test = train_test_split(X, y, test_size=0.2, random_state=42)"
   ]
  },
  {
   "cell_type": "code",
   "execution_count": 11,
   "id": "b2ec1521",
   "metadata": {},
   "outputs": [],
   "source": [
    "ros = RandomOverSampler(random_state=42)\n",
    "X_train_resampled, y_train_resampled = ros.fit_resample(X_train, y_train)"
   ]
  },
  {
   "cell_type": "code",
   "execution_count": 12,
   "id": "bb4a0381",
   "metadata": {},
   "outputs": [
    {
     "data": {
      "text/plain": [
       "skills_group_0      79939\n",
       "skills_group_1      67504\n",
       "skills_group_10     97176\n",
       "skills_group_11     44992\n",
       "skills_group_12     21223\n",
       "skills_group_13     25500\n",
       "skills_group_14     46403\n",
       "skills_group_15     52610\n",
       "skills_group_16     31845\n",
       "skills_group_17    949521\n",
       "skills_group_18    174869\n",
       "skills_group_19    222219\n",
       "skills_group_2     630230\n",
       "skills_group_20     12124\n",
       "skills_group_21    195784\n",
       "skills_group_22      5111\n",
       "skills_group_23      8284\n",
       "skills_group_24     91303\n",
       "skills_group_3     735295\n",
       "skills_group_4     822013\n",
       "skills_group_5     898072\n",
       "skills_group_6     784868\n",
       "skills_group_7     331818\n",
       "skills_group_9      38270\n",
       "dtype: int64"
      ]
     },
     "execution_count": 12,
     "metadata": {},
     "output_type": "execute_result"
    }
   ],
   "source": [
    "X_train_resampled.sum(axis=0)"
   ]
  },
  {
   "cell_type": "code",
   "execution_count": 13,
   "id": "d8f2ccfd",
   "metadata": {},
   "outputs": [
    {
     "data": {
      "text/plain": [
       "430031"
      ]
     },
     "execution_count": 13,
     "metadata": {},
     "output_type": "execute_result"
    }
   ],
   "source": [
    "len(y_train_resampled)"
   ]
  },
  {
   "cell_type": "code",
   "execution_count": null,
   "id": "e3d8617b",
   "metadata": {},
   "outputs": [],
   "source": []
  }
 ],
 "metadata": {
  "kernelspec": {
   "display_name": "Python 3 (ipykernel)",
   "language": "python",
   "name": "python3"
  },
  "language_info": {
   "codemirror_mode": {
    "name": "ipython",
    "version": 3
   },
   "file_extension": ".py",
   "mimetype": "text/x-python",
   "name": "python",
   "nbconvert_exporter": "python",
   "pygments_lexer": "ipython3",
   "version": "3.9.12"
  }
 },
 "nbformat": 4,
 "nbformat_minor": 5
}
