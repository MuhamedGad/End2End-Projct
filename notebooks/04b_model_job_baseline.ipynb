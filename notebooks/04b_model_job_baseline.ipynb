{
 "cells": [
  {
   "cell_type": "code",
   "execution_count": 1,
   "id": "291ae49e",
   "metadata": {},
   "outputs": [],
   "source": [
    "# important paths\n",
    "DATA_PATH = r\"..\\data\\processed\\processed_1.pkl\"\n",
    "FEATURES_PATH = r\"..\\data\\processed\\cleaned_df.pkl\"\n"
   ]
  },
  {
   "cell_type": "code",
   "execution_count": 2,
   "id": "5043d6c6",
   "metadata": {},
   "outputs": [],
   "source": [
    "TECH_COLS = ['LanguageHaveWorkedWith', 'DatabaseHaveWorkedWith', \n",
    "             'PlatformHaveWorkedWith', 'WebframeHaveWorkedWith', \n",
    "             'MiscTechHaveWorkedWith', 'ToolsTechHaveWorkedWith']"
   ]
  },
  {
   "cell_type": "code",
   "execution_count": 3,
   "id": "55ec5392",
   "metadata": {},
   "outputs": [],
   "source": [
    "# used libraries\n",
    "import pandas as pd\n",
    "import mlflow\n",
    "import os\n",
    "\n",
    "import numpy as np\n",
    "import matplotlib.pyplot as plt\n",
    "import plotly.express as px\n",
    "import plotly.graph_objects as go\n",
    "from sklearn.preprocessing import MultiLabelBinarizer\n",
    "from imblearn.over_sampling import SMOTE\n",
    "from sklearn.model_selection import train_test_split\n",
    "from imblearn.over_sampling import RandomOverSampler\n",
    "from sklearn.preprocessing import StandardScaler\n",
    "from sklearn.linear_model import LogisticRegression\n",
    "from sklearn.metrics import f1_score, precision_score, recall_score, confusion_matrix\n",
    "from sklearn.pipeline import make_pipeline\n",
    "from sklearn.compose import ColumnTransformer\n",
    "import warnings\n"
   ]
  },
  {
   "cell_type": "code",
   "execution_count": 4,
   "id": "0f343832",
   "metadata": {},
   "outputs": [],
   "source": [
    "warnings.filterwarnings(\"ignore\")"
   ]
  },
  {
   "cell_type": "code",
   "execution_count": 5,
   "id": "3b9817d1",
   "metadata": {},
   "outputs": [],
   "source": [
    "# reading data\n",
    "processed_df = pd.read_pickle(DATA_PATH)\n",
    "combined_df = pd.read_pickle(FEATURES_PATH)\n",
    "df = combined_df.copy()"
   ]
  },
  {
   "cell_type": "code",
   "execution_count": 6,
   "id": "0a4df5b3",
   "metadata": {},
   "outputs": [],
   "source": [
    "def laterFunction () :\n",
    "    pass\n"
   ]
  },
  {
   "cell_type": "markdown",
   "id": "6b146912",
   "metadata": {},
   "source": [
    "### Balance Role Classes"
   ]
  },
  {
   "cell_type": "code",
   "execution_count": 7,
   "id": "53ce2fd6",
   "metadata": {},
   "outputs": [
    {
     "data": {
      "text/plain": [
       "Academic researcher                               1283\n",
       "Blockchain                                         294\n",
       "Cloud infrastructure engineer                      931\n",
       "Data or business analyst                           813\n",
       "Data scientist or machine learning specialist     1474\n",
       "Database administrator                             245\n",
       "DevOps specialist                                 1217\n",
       "Developer Advocate                                 192\n",
       "Developer Experience                               303\n",
       "Developer, QA or test                              562\n",
       "Developer, back-end                              13045\n",
       "Developer, desktop or enterprise applications     3745\n",
       "Developer, embedded applications or devices       1780\n",
       "Developer, front-end                              4915\n",
       "Developer, full-stack                            23303\n",
       "Developer, game or graphics                        824\n",
       "Developer, mobile                                 2512\n",
       "Engineer, data                                    1170\n",
       "Hardware Engineer                                  278\n",
       "Research & Development role                       1245\n",
       "Scientist                                          331\n",
       "Security professional                              416\n",
       "System administrator                               689\n",
       "dtype: int64"
      ]
     },
     "execution_count": 7,
     "metadata": {},
     "output_type": "execute_result"
    }
   ],
   "source": [
    "roles_df = combined_df['DevType'].copy()\n",
    "roles_df.sum(axis=0)"
   ]
  },
  {
   "cell_type": "code",
   "execution_count": 8,
   "id": "44083da4",
   "metadata": {},
   "outputs": [
    {
     "data": {
      "text/plain": [
       "skills_group_0      13017\n",
       "skills_group_1       8403\n",
       "skills_group_10     20792\n",
       "skills_group_11     12352\n",
       "skills_group_12      3364\n",
       "skills_group_13      4984\n",
       "skills_group_14      8915\n",
       "skills_group_15     16944\n",
       "skills_group_16      6100\n",
       "skills_group_17    183995\n",
       "skills_group_18     31274\n",
       "skills_group_19     60618\n",
       "skills_group_2     143555\n",
       "skills_group_20      1902\n",
       "skills_group_21     40646\n",
       "skills_group_22      1378\n",
       "skills_group_23      1767\n",
       "skills_group_24     28344\n",
       "skills_group_3     157348\n",
       "skills_group_4     124210\n",
       "skills_group_5     241873\n",
       "skills_group_6     118073\n",
       "skills_group_7      75503\n",
       "skills_group_9       5591\n",
       "dtype: int64"
      ]
     },
     "execution_count": 8,
     "metadata": {},
     "output_type": "execute_result"
    }
   ],
   "source": [
    "df['Clusters'].sum(axis=0)"
   ]
  },
  {
   "cell_type": "code",
   "execution_count": 9,
   "id": "d01ee72d",
   "metadata": {},
   "outputs": [],
   "source": [
    "X=df['Clusters']\n",
    "y = df['DevType'].idxmax(axis=1)"
   ]
  },
  {
   "cell_type": "code",
   "execution_count": 10,
   "id": "1f772125",
   "metadata": {},
   "outputs": [],
   "source": [
    "X_train, X_test, y_train, y_test = train_test_split(X, y, test_size=0.2,stratify=y,  random_state=42)"
   ]
  },
  {
   "cell_type": "code",
   "execution_count": 11,
   "id": "70cf5334",
   "metadata": {},
   "outputs": [],
   "source": [
    "ros = RandomOverSampler(random_state=42)\n",
    "X_train_resampled, y_train_resampled = ros.fit_resample(X_train, y_train)"
   ]
  },
  {
   "cell_type": "code",
   "execution_count": 12,
   "id": "8beef22f",
   "metadata": {},
   "outputs": [
    {
     "data": {
      "text/plain": [
       "skills_group_0      80507\n",
       "skills_group_1      66529\n",
       "skills_group_10     97848\n",
       "skills_group_11     44231\n",
       "skills_group_12     20377\n",
       "skills_group_13     25886\n",
       "skills_group_14     48221\n",
       "skills_group_15     53518\n",
       "skills_group_16     31821\n",
       "skills_group_17    948954\n",
       "skills_group_18    175814\n",
       "skills_group_19    220949\n",
       "skills_group_2     630711\n",
       "skills_group_20     11899\n",
       "skills_group_21    193879\n",
       "skills_group_22      4869\n",
       "skills_group_23      8685\n",
       "skills_group_24     94060\n",
       "skills_group_3     742639\n",
       "skills_group_4     827454\n",
       "skills_group_5     898323\n",
       "skills_group_6     776443\n",
       "skills_group_7     338282\n",
       "skills_group_9      39416\n",
       "dtype: int64"
      ]
     },
     "execution_count": 12,
     "metadata": {},
     "output_type": "execute_result"
    }
   ],
   "source": [
    "X_train_resampled.sum(axis=0)"
   ]
  },
  {
   "cell_type": "code",
   "execution_count": 13,
   "id": "60d6feee",
   "metadata": {},
   "outputs": [
    {
     "data": {
      "text/plain": [
       "428766"
      ]
     },
     "execution_count": 13,
     "metadata": {},
     "output_type": "execute_result"
    }
   ],
   "source": [
    "len(y_train_resampled)"
   ]
  },
  {
   "cell_type": "code",
   "execution_count": 14,
   "id": "59f15b47",
   "metadata": {},
   "outputs": [],
   "source": [
    "numeric_features = X_train_resampled.columns\n"
   ]
  },
  {
   "cell_type": "code",
   "execution_count": 15,
   "id": "f7c4bf57",
   "metadata": {},
   "outputs": [],
   "source": [
    "preprocessor = ColumnTransformer(\n",
    "                    transformers=[\n",
    "                        ('numeric', StandardScaler(), numeric_features),\n",
    "                    ])"
   ]
  },
  {
   "cell_type": "code",
   "execution_count": 16,
   "id": "8dbf706a",
   "metadata": {},
   "outputs": [
    {
     "data": {
      "text/plain": [
       "Pipeline(steps=[('columntransformer',\n",
       "                 ColumnTransformer(transformers=[('numeric', StandardScaler(),\n",
       "                                                  Index(['skills_group_0', 'skills_group_1', 'skills_group_10',\n",
       "       'skills_group_11', 'skills_group_12', 'skills_group_13',\n",
       "       'skills_group_14', 'skills_group_15', 'skills_group_16',\n",
       "       'skills_group_17', 'skills_group_18', 'skills_group_19',\n",
       "       'skills_group_2', 'skills_group_20', 'skills_group_21',\n",
       "       'skills_group_22', 'skills_group_23', 'skills_group_24',\n",
       "       'skills_group_3', 'skills_group_4', 'skills_group_5', 'skills_group_6',\n",
       "       'skills_group_7', 'skills_group_9'],\n",
       "      dtype='object'))])),\n",
       "                ('logisticregression', LogisticRegression())])"
      ]
     },
     "execution_count": 16,
     "metadata": {},
     "output_type": "execute_result"
    }
   ],
   "source": [
    "clf = make_pipeline(preprocessor, LogisticRegression())\n",
    "clf.fit(X_train_resampled, y_train_resampled)"
   ]
  },
  {
   "cell_type": "code",
   "execution_count": 17,
   "id": "025d2559",
   "metadata": {},
   "outputs": [],
   "source": [
    "y_pred = clf.predict(X_test)\n"
   ]
  },
  {
   "cell_type": "code",
   "execution_count": 18,
   "id": "3b644f4a",
   "metadata": {},
   "outputs": [
    {
     "data": {
      "text/plain": [
       "0.46384715254676706"
      ]
     },
     "execution_count": 18,
     "metadata": {},
     "output_type": "execute_result"
    }
   ],
   "source": [
    "# f1 = f1_score(y_test, y_pred, average='weighted')\n",
    "perc = precision_score(y_test, y_pred, average='weighted')\n",
    "perc"
   ]
  },
  {
   "cell_type": "code",
   "execution_count": 19,
   "id": "e733f5a7",
   "metadata": {},
   "outputs": [
    {
     "data": {
      "text/plain": [
       "0.22042071002350672"
      ]
     },
     "execution_count": 19,
     "metadata": {},
     "output_type": "execute_result"
    }
   ],
   "source": [
    "rec = recall_score(y_test, y_pred, average='weighted')\n",
    "rec"
   ]
  },
  {
   "cell_type": "code",
   "execution_count": 20,
   "id": "04ce2f07",
   "metadata": {},
   "outputs": [
    {
     "data": {
      "text/plain": [
       "0.22411855258375235"
      ]
     },
     "execution_count": 20,
     "metadata": {},
     "output_type": "execute_result"
    }
   ],
   "source": [
    "f1 = f1_score(y_test, y_pred, average='weighted')\n",
    "f1"
   ]
  },
  {
   "cell_type": "code",
   "execution_count": 21,
   "id": "33d33216",
   "metadata": {},
   "outputs": [
    {
     "data": {
      "text/plain": [
       "Pipeline(steps=[('columntransformer',\n",
       "                 ColumnTransformer(transformers=[('numeric', StandardScaler(),\n",
       "                                                  Index(['skills_group_0', 'skills_group_1', 'skills_group_10',\n",
       "       'skills_group_11', 'skills_group_12', 'skills_group_13',\n",
       "       'skills_group_14', 'skills_group_15', 'skills_group_16',\n",
       "       'skills_group_17', 'skills_group_18', 'skills_group_19',\n",
       "       'skills_group_2', 'skills_group_20', 'skills_group_21',\n",
       "       'skills_group_22', 'skills_group_23', 'skills_group_24',\n",
       "       'skills_group_3', 'skills_group_4', 'skills_group_5', 'skills_group_6',\n",
       "       'skills_group_7', 'skills_group_9'],\n",
       "      dtype='object'))])),\n",
       "                ('logisticregression', LogisticRegression())])"
      ]
     },
     "execution_count": 21,
     "metadata": {},
     "output_type": "execute_result"
    }
   ],
   "source": [
    "clf = make_pipeline(preprocessor, LogisticRegression())\n",
    "clf.fit(X_train, y_train)"
   ]
  },
  {
   "cell_type": "code",
   "execution_count": 22,
   "id": "6b074d9d",
   "metadata": {},
   "outputs": [],
   "source": [
    "y_pred = clf.predict(X_test)\n"
   ]
  },
  {
   "cell_type": "code",
   "execution_count": 23,
   "id": "6738002a",
   "metadata": {},
   "outputs": [
    {
     "data": {
      "text/plain": [
       "0.4321365833587833"
      ]
     },
     "execution_count": 23,
     "metadata": {},
     "output_type": "execute_result"
    }
   ],
   "source": [
    "perc = precision_score(y_test, y_pred, average='weighted')\n",
    "perc"
   ]
  },
  {
   "cell_type": "code",
   "execution_count": 24,
   "id": "97a50767",
   "metadata": {},
   "outputs": [
    {
     "data": {
      "text/plain": [
       "0.4730878186968839"
      ]
     },
     "execution_count": 24,
     "metadata": {},
     "output_type": "execute_result"
    }
   ],
   "source": [
    "rec = recall_score(y_test, y_pred, average='weighted')\n",
    "rec"
   ]
  },
  {
   "cell_type": "code",
   "execution_count": 25,
   "id": "f9ac7e0d",
   "metadata": {},
   "outputs": [
    {
     "data": {
      "text/plain": [
       "0.4331869812706021"
      ]
     },
     "execution_count": 25,
     "metadata": {},
     "output_type": "execute_result"
    }
   ],
   "source": [
    "f1 = f1_score(y_test, y_pred, average='weighted')\n",
    "f1"
   ]
  },
  {
   "cell_type": "markdown",
   "id": "a107f9b4",
   "metadata": {},
   "source": [
    "#### As we can see handling the imbalancing of the data seems to not help so we will use the data as it's, also when using ensemble methods it won't get affected with that imbalancing so it doesn't matter for now "
   ]
  },
  {
   "cell_type": "markdown",
   "id": "6c893a5d",
   "metadata": {},
   "source": [
    "### Baseline Model\n",
    "#### Intializing mlflow and saving our base model"
   ]
  },
  {
   "cell_type": "code",
   "execution_count": 30,
   "id": "a476069a",
   "metadata": {},
   "outputs": [],
   "source": [
    "experiment_name = \"your_experiment_name\"\n",
    "artifact_location = r\"..\\models\\Models\"\n",
    "experiment_id = mlflow.create_experiment(experiment_name, artifact_location)\n"
   ]
  },
  {
   "cell_type": "code",
   "execution_count": 31,
   "id": "6a3c0d24",
   "metadata": {},
   "outputs": [],
   "source": [
    "# Set MLFLOW_EXPERIMENT_LOCATION to the desired artifact location\n",
    "os.environ[\"MLFLOW_EXPERIMENT_LOCATION\"] = artifact_location"
   ]
  },
  {
   "cell_type": "code",
   "execution_count": 34,
   "id": "a6a3e829",
   "metadata": {},
   "outputs": [],
   "source": [
    "# where to create the mlruns folder\n",
    "MLFLOW_TRACKING_URI = '../models/mlruns'\n",
    "mlflow.set_tracking_uri(MLFLOW_TRACKING_URI)\n"
   ]
  },
  {
   "cell_type": "code",
   "execution_count": 32,
   "id": "3ed642f0",
   "metadata": {},
   "outputs": [],
   "source": [
    "with mlflow.start_run(experiment_id=experiment_id):\n",
    "    # Log parameters\n",
    "    mlflow.log_param(\"param\", 'No parameters specified')\n",
    "\n",
    "    # Log metrics\n",
    "    mlflow.log_metric(\"f1_score\", f1)\n",
    "    mlflow.log_metric(\"recall\", rec)\n",
    "    mlflow.log_metric(\"precision\", perc)\n",
    "    mlflow.sklearn.log_model(clf, \"logisticRegression\")"
   ]
  },
  {
   "cell_type": "code",
   "execution_count": null,
   "id": "e97f2685",
   "metadata": {},
   "outputs": [],
   "source": []
  }
 ],
 "metadata": {
  "kernelspec": {
   "display_name": "Python 3 (ipykernel)",
   "language": "python",
   "name": "python3"
  },
  "language_info": {
   "codemirror_mode": {
    "name": "ipython",
    "version": 3
   },
   "file_extension": ".py",
   "mimetype": "text/x-python",
   "name": "python",
   "nbconvert_exporter": "python",
   "pygments_lexer": "ipython3",
   "version": "3.9.12"
  }
 },
 "nbformat": 4,
 "nbformat_minor": 5
}
